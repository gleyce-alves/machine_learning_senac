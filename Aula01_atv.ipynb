{
  "nbformat": 4,
  "nbformat_minor": 0,
  "metadata": {
    "colab": {
      "provenance": [],
      "authorship_tag": "ABX9TyNCojiLu3eiZBQ0h/eeqk+E",
      "include_colab_link": true
    },
    "kernelspec": {
      "name": "python3",
      "display_name": "Python 3"
    },
    "language_info": {
      "name": "python"
    }
  },
  "cells": [
    {
      "cell_type": "markdown",
      "metadata": {
        "id": "view-in-github",
        "colab_type": "text"
      },
      "source": [
        "<a href=\"https://colab.research.google.com/github/gleyce-alves/machine_learning_senac/blob/main/Aula01_atv.ipynb\" target=\"_parent\"><img src=\"https://colab.research.google.com/assets/colab-badge.svg\" alt=\"Open In Colab\"/></a>"
      ]
    },
    {
      "cell_type": "markdown",
      "source": [
        "#Atividade Aula 01"
      ],
      "metadata": {
        "id": "LB0gfPUhxYeN"
      }
    },
    {
      "cell_type": "markdown",
      "source": [
        "Execute os programas abaixo e comente o que acontece:"
      ],
      "metadata": {
        "id": "8rc8hnBuxN-A"
      }
    },
    {
      "cell_type": "code",
      "execution_count": 1,
      "metadata": {
        "id": "B1UOtQGDsCfP",
        "colab": {
          "base_uri": "https://localhost:8080/",
          "height": 130
        },
        "outputId": "e959029c-263e-4f08-fa87-586dc0a84ff0"
      },
      "outputs": [
        {
          "output_type": "error",
          "ename": "IndentationError",
          "evalue": "ignored",
          "traceback": [
            "\u001b[0;36m  File \u001b[0;32m\"<ipython-input-1-1034ce4f6eaa>\"\u001b[0;36m, line \u001b[0;32m3\u001b[0m\n\u001b[0;31m    soma = a + b\u001b[0m\n\u001b[0m    ^\u001b[0m\n\u001b[0;31mIndentationError\u001b[0m\u001b[0;31m:\u001b[0m unexpected indent\n"
          ]
        }
      ],
      "source": [
        "a = 3\n",
        "b = 4\n",
        " soma = a + b\n",
        " print(\"A soma de a + b é: soma\")"
      ]
    },
    {
      "cell_type": "markdown",
      "source": [
        "No item 1) nos retorna um erro de indentação, nesse caso não devemos identar a última e penúltima linhda. Pela sintaxe do print no python, esse item não está errado porém não retorna o que é sugerido. Da forma que o print está escrito, a variável \"soma\" está como uma string simples, ou seja, quando for executado o print, o que retornará na tela é \"A soma de a + b é: soma\" e não o resultado da variável soma. "
      ],
      "metadata": {
        "id": "Lk5Rl_erszq6"
      }
    },
    {
      "cell_type": "code",
      "source": [
        "a = 3\n",
        "b = 4\n",
        "soma = a + b\n",
        "print(\"A soma de a + b é:\", soma)"
      ],
      "metadata": {
        "colab": {
          "base_uri": "https://localhost:8080/"
        },
        "id": "Ay0AwWtstj7j",
        "outputId": "f52028f5-fed6-42b8-aac6-06039a259437"
      },
      "execution_count": 2,
      "outputs": [
        {
          "output_type": "stream",
          "name": "stdout",
          "text": [
            "A soma de a + b é: 7\n"
          ]
        }
      ]
    },
    {
      "cell_type": "markdown",
      "source": [
        "No item 2) verificamos a execução certa do que é proposto no exercício anterior. Nesse caso não temos identação desnecessária e a variável soma, de fato, esta referenciada como variável dentro do print. "
      ],
      "metadata": {
        "id": "x175dGsytyMf"
      }
    },
    {
      "cell_type": "code",
      "source": [
        "a = 3\n",
        "b = 4\n",
        "soma = a + b\n",
        "print(\"A soma de\", a, \"+\", b, \"é:\", soma)"
      ],
      "metadata": {
        "colab": {
          "base_uri": "https://localhost:8080/"
        },
        "id": "Iip1GLIVuBDc",
        "outputId": "6f274b26-93f7-41e0-8fef-9b5067f3e909"
      },
      "execution_count": 3,
      "outputs": [
        {
          "output_type": "stream",
          "name": "stdout",
          "text": [
            "A soma de 3 + 4 é: 7\n"
          ]
        }
      ]
    },
    {
      "cell_type": "markdown",
      "source": [
        "A idéia do item 3) é a mesma dos itens anteriores porém um pouco melhor explorada.  No caso do item 3) temos que no print, ao invés de printar \"a + b\" como no item 2), é printado os respectivos valores das variáveis de a, b e c."
      ],
      "metadata": {
        "id": "aFQpGGQmuPjD"
      }
    },
    {
      "cell_type": "code",
      "source": [
        "PROMPT_1 = \"Digite o primeiro numero: \"\n",
        "PROMPT_2 = \"Digite o segundo numero: \"\n",
        "a = input(PROMPT_1)\n",
        "b = input(PROMPT_2)\n",
        "soma = a + b\n",
        "print(\"A soma de\", a, \"+\", b, \"é:\", soma)"
      ],
      "metadata": {
        "colab": {
          "base_uri": "https://localhost:8080/"
        },
        "id": "iHYhkNqXupI8",
        "outputId": "75f03eb6-38bd-4109-fdfd-81c0a8d58bfc"
      },
      "execution_count": 4,
      "outputs": [
        {
          "output_type": "stream",
          "name": "stdout",
          "text": [
            "Digite o primeiro numero: 2\n",
            "Digite o segundo numero: 3\n",
            "A soma de 2 + 3 é: 23\n"
          ]
        }
      ]
    },
    {
      "cell_type": "markdown",
      "source": [
        "No inicio do código é definido duas variavéis (PROMPT_1 e PROMPT_2), posteriormente é criado mais duas variavéis sendo elas um input das duas variavéis anteriores. É definido também a variável soma como sendo uma soma de a e b e, por fim, é printado o resultado dessa soma. O que acontece é que as variáveis responsáveis pelo input, como padrão, é definida como string. Como não foi feita a conversão na hora de receber os valores, o que aconteceu foi que os números foram lidos como string e na hora da soma o que acontece de fato é uma concatenação, apenas uma junção de ambos os números e não uma soma matemática. Nesse caso, 2 + 3 = 23 e não 5."
      ],
      "metadata": {
        "id": "B6hUBohHvFD9"
      }
    },
    {
      "cell_type": "code",
      "source": [
        "a_str = input(\"Digite o primeiro numero: \")\n",
        "b_str = input(\"Digite o segundo numero: \")\n",
        "a_int = int(a_str) # converte string/texto para inteiro\n",
        "b_int = int(b_str) # converte string/texto para inteiro\n",
        "soma = a_int + b_int\n",
        "print(\"A soma de\", a_int, \"+\", b_int, \"eh igual a\", soma)"
      ],
      "metadata": {
        "colab": {
          "base_uri": "https://localhost:8080/"
        },
        "id": "dnJvu3Jqv3d9",
        "outputId": "e7fc8e81-c140-470d-ab69-cbfd89450b54"
      },
      "execution_count": 5,
      "outputs": [
        {
          "output_type": "stream",
          "name": "stdout",
          "text": [
            "Digite o primeiro numero: 1\n",
            "Digite o segundo numero: 2\n",
            "A soma de 1 + 2 eh igual a 3\n"
          ]
        }
      ]
    },
    {
      "cell_type": "markdown",
      "source": [
        "Nesse caso, a idéia principal é a mesma do item anterior porém como o valor recebido no input foi convertido para inteiro posteriormente, logo, quando for feita a soma é de fato uma soma matemática. Por exemplo, 2 + 3 = 5."
      ],
      "metadata": {
        "id": "8n5F_OKUwBYJ"
      }
    },
    {
      "cell_type": "code",
      "source": [
        "a = int(input(\"Digite o primeiro numero: \"))\n",
        "b = int(input(\"Digite o segundo numero: \"))\n",
        "soma = a + b\n",
        "print(\"A soma de\", a, \"+\", b, \"eh igual a\", soma)"
      ],
      "metadata": {
        "colab": {
          "base_uri": "https://localhost:8080/"
        },
        "id": "G0uHkMYowXqV",
        "outputId": "12dcd0cc-d4b4-4d53-84d5-dd66b53b65a1"
      },
      "execution_count": 6,
      "outputs": [
        {
          "output_type": "stream",
          "name": "stdout",
          "text": [
            "Digite o primeiro numero: 2\n",
            "Digite o segundo numero: 3\n",
            "A soma de 2 + 3 eh igual a 5\n"
          ]
        }
      ]
    },
    {
      "cell_type": "markdown",
      "source": [
        "Da mesma forma dos exercícos anteriores, a idéia base é a mesma. Porém nesse caso, a conversão de string para inteiro é feita na mesma variável e não criado outra variável para conversão.\n"
      ],
      "metadata": {
        "id": "2nqbufy0w4uL"
      }
    }
  ]
}