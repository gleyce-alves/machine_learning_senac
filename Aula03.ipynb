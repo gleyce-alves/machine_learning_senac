{
  "nbformat": 4,
  "nbformat_minor": 0,
  "metadata": {
    "colab": {
      "provenance": [],
      "authorship_tag": "ABX9TyPvLMLy7fmviji2yLuEVGz2",
      "include_colab_link": true
    },
    "kernelspec": {
      "name": "python3",
      "display_name": "Python 3"
    },
    "language_info": {
      "name": "python"
    }
  },
  "cells": [
    {
      "cell_type": "markdown",
      "metadata": {
        "id": "view-in-github",
        "colab_type": "text"
      },
      "source": [
        "<a href=\"https://colab.research.google.com/github/gleyce-alves/machine_learning_senac/blob/main/Aula03.ipynb\" target=\"_parent\"><img src=\"https://colab.research.google.com/assets/colab-badge.svg\" alt=\"Open In Colab\"/></a>"
      ]
    },
    {
      "cell_type": "markdown",
      "source": [
        "# AULA 03:\n",
        "\n",
        "- Lista, dicionários e tuplas\n",
        "- String\n",
        "- Função range\n",
        "- Iterações e laços"
      ],
      "metadata": {
        "id": "a5pq-hDwi08U"
      }
    },
    {
      "cell_type": "code",
      "execution_count": null,
      "metadata": {
        "id": "BfikRUs1irje"
      },
      "outputs": [],
      "source": [
        "L = []\n"
      ]
    },
    {
      "cell_type": "code",
      "source": [
        "L = list()"
      ],
      "metadata": {
        "id": "-v1n4sQulhYb"
      },
      "execution_count": null,
      "outputs": []
    },
    {
      "cell_type": "code",
      "source": [
        "dias = [3,1,10]"
      ],
      "metadata": {
        "id": "tEmWo-ValjNj"
      },
      "execution_count": null,
      "outputs": []
    },
    {
      "cell_type": "code",
      "source": [
        "dias[0]"
      ],
      "metadata": {
        "colab": {
          "base_uri": "https://localhost:8080/"
        },
        "id": "OengKXf-lmlL",
        "outputId": "ff287e6a-bbcd-4acd-e4f8-36bbd5d51fe4"
      },
      "execution_count": null,
      "outputs": [
        {
          "output_type": "execute_result",
          "data": {
            "text/plain": [
              "3"
            ]
          },
          "metadata": {},
          "execution_count": 3
        }
      ]
    },
    {
      "cell_type": "code",
      "source": [
        "dias[1]"
      ],
      "metadata": {
        "colab": {
          "base_uri": "https://localhost:8080/"
        },
        "id": "Xg36uQLMln8j",
        "outputId": "69886221-730f-46fd-d8b4-62a8d865f739"
      },
      "execution_count": null,
      "outputs": [
        {
          "output_type": "execute_result",
          "data": {
            "text/plain": [
              "1"
            ]
          },
          "metadata": {},
          "execution_count": 4
        }
      ]
    },
    {
      "cell_type": "code",
      "source": [
        "dias[2]"
      ],
      "metadata": {
        "colab": {
          "base_uri": "https://localhost:8080/"
        },
        "id": "oo_vEhbjlwjD",
        "outputId": "329acec5-1828-4776-9d74-a8fe12caeaaf"
      },
      "execution_count": null,
      "outputs": [
        {
          "output_type": "execute_result",
          "data": {
            "text/plain": [
              "10"
            ]
          },
          "metadata": {},
          "execution_count": 5
        }
      ]
    },
    {
      "cell_type": "code",
      "source": [
        "z = [3,8,9]"
      ],
      "metadata": {
        "id": "-__7Ww9flx0y"
      },
      "execution_count": null,
      "outputs": []
    },
    {
      "cell_type": "code",
      "source": [
        "z[0] = 7"
      ],
      "metadata": {
        "id": "VAnm4NV2l-WT"
      },
      "execution_count": null,
      "outputs": []
    },
    {
      "cell_type": "code",
      "source": [
        "z"
      ],
      "metadata": {
        "colab": {
          "base_uri": "https://localhost:8080/"
        },
        "id": "Cb075ZMdmAgT",
        "outputId": "0910c549-bd3f-47dd-f612-be26a2d66d61"
      },
      "execution_count": null,
      "outputs": [
        {
          "output_type": "execute_result",
          "data": {
            "text/plain": [
              "[7, 8, 9]"
            ]
          },
          "metadata": {},
          "execution_count": 8
        }
      ]
    },
    {
      "cell_type": "code",
      "source": [
        "v = 67589"
      ],
      "metadata": {
        "id": "EjQQ03VKmKnz"
      },
      "execution_count": 9,
      "outputs": []
    },
    {
      "cell_type": "code",
      "source": [
        "v = L"
      ],
      "metadata": {
        "id": "d9Dtj5r0mjd8"
      },
      "execution_count": 10,
      "outputs": []
    },
    {
      "cell_type": "code",
      "source": [
        "a = [81,82,83]"
      ],
      "metadata": {
        "id": "LBUk9ejGmknj"
      },
      "execution_count": 11,
      "outputs": []
    },
    {
      "cell_type": "code",
      "source": [
        "b = a[:]"
      ],
      "metadata": {
        "id": "W-DdmKJ8mnIr"
      },
      "execution_count": 18,
      "outputs": []
    },
    {
      "cell_type": "code",
      "source": [
        "print(a==b)"
      ],
      "metadata": {
        "colab": {
          "base_uri": "https://localhost:8080/"
        },
        "id": "pqqu_58gm3wE",
        "outputId": "90193c6b-c625-4240-e65d-fd78d90916a7"
      },
      "execution_count": 19,
      "outputs": [
        {
          "output_type": "stream",
          "name": "stdout",
          "text": [
            "True\n"
          ]
        }
      ]
    },
    {
      "cell_type": "code",
      "source": [
        "print(a is b)"
      ],
      "metadata": {
        "colab": {
          "base_uri": "https://localhost:8080/"
        },
        "id": "6JLOGUfcmslV",
        "outputId": "3b5b4fd1-c2de-47bd-a821-e1c3c4c9b148"
      },
      "execution_count": 13,
      "outputs": [
        {
          "output_type": "stream",
          "name": "stdout",
          "text": [
            "False\n"
          ]
        }
      ]
    },
    {
      "cell_type": "code",
      "source": [
        "b[0] = 5"
      ],
      "metadata": {
        "id": "2etFNViumvAF"
      },
      "execution_count": 14,
      "outputs": []
    },
    {
      "cell_type": "code",
      "source": [
        "print(a)"
      ],
      "metadata": {
        "colab": {
          "base_uri": "https://localhost:8080/"
        },
        "id": "Xj862Fimmxgl",
        "outputId": "f35d6214-da70-4363-caba-b229fd7acee7"
      },
      "execution_count": 15,
      "outputs": [
        {
          "output_type": "stream",
          "name": "stdout",
          "text": [
            "[81, 82, 83]\n"
          ]
        }
      ]
    },
    {
      "cell_type": "code",
      "source": [
        "print(b)"
      ],
      "metadata": {
        "colab": {
          "base_uri": "https://localhost:8080/"
        },
        "id": "9M6e7q-dmyf1",
        "outputId": "389f744c-8bb8-487b-b313-f5bacbba5568"
      },
      "execution_count": 16,
      "outputs": [
        {
          "output_type": "stream",
          "name": "stdout",
          "text": [
            "[5, 82, 83]\n"
          ]
        }
      ]
    },
    {
      "cell_type": "code",
      "source": [
        "uma_lista = ['a','b','c','d','e','f']"
      ],
      "metadata": {
        "id": "O6EsX2tkm0aU"
      },
      "execution_count": 20,
      "outputs": []
    },
    {
      "cell_type": "code",
      "source": [
        "print(uma_lista[1:3])"
      ],
      "metadata": {
        "colab": {
          "base_uri": "https://localhost:8080/"
        },
        "id": "v-NW_tfonElq",
        "outputId": "a0dcc21b-6579-48fc-c689-0a940a837a22"
      },
      "execution_count": 21,
      "outputs": [
        {
          "output_type": "stream",
          "name": "stdout",
          "text": [
            "['b', 'c']\n"
          ]
        }
      ]
    },
    {
      "cell_type": "code",
      "source": [
        "print(uma_lista[:4])"
      ],
      "metadata": {
        "colab": {
          "base_uri": "https://localhost:8080/"
        },
        "id": "-wpOWkGMnkvj",
        "outputId": "e8953f70-cc45-47da-d2fa-a6a10fa412c3"
      },
      "execution_count": 22,
      "outputs": [
        {
          "output_type": "stream",
          "name": "stdout",
          "text": [
            "['a', 'b', 'c', 'd']\n"
          ]
        }
      ]
    },
    {
      "cell_type": "code",
      "source": [
        "print(uma_lista[3:])"
      ],
      "metadata": {
        "colab": {
          "base_uri": "https://localhost:8080/"
        },
        "id": "fAv7KfRznmxS",
        "outputId": "bc102fa1-e62d-49d8-89bd-e848473b2e7d"
      },
      "execution_count": 23,
      "outputs": [
        {
          "output_type": "stream",
          "name": "stdout",
          "text": [
            "['d', 'e', 'f']\n"
          ]
        }
      ]
    },
    {
      "cell_type": "code",
      "source": [
        "print(uma_lista[:])"
      ],
      "metadata": {
        "colab": {
          "base_uri": "https://localhost:8080/"
        },
        "id": "YxmqX2vqnrL6",
        "outputId": "e5cb9c06-078f-48f4-b4d1-769bc586cd1d"
      },
      "execution_count": 24,
      "outputs": [
        {
          "output_type": "stream",
          "name": "stdout",
          "text": [
            "['a', 'b', 'c', 'd', 'e', 'f']\n"
          ]
        }
      ]
    },
    {
      "cell_type": "code",
      "source": [
        "a = [1,2,3]"
      ],
      "metadata": {
        "id": "FVVprRg9ntNk"
      },
      "execution_count": 25,
      "outputs": []
    },
    {
      "cell_type": "code",
      "source": [
        "b = a[:]"
      ],
      "metadata": {
        "id": "qspyVkv5oaSL"
      },
      "execution_count": 26,
      "outputs": []
    },
    {
      "cell_type": "code",
      "source": [
        "b[0] = 5"
      ],
      "metadata": {
        "id": "hFRKZ8wDoc1C"
      },
      "execution_count": 27,
      "outputs": []
    },
    {
      "cell_type": "code",
      "source": [
        "print(a[3])"
      ],
      "metadata": {
        "colab": {
          "base_uri": "https://localhost:8080/",
          "height": 165
        },
        "id": "KxHV6cw0og3T",
        "outputId": "19e86d8f-041b-43fc-a76d-6a9fe0c3f092"
      },
      "execution_count": 28,
      "outputs": [
        {
          "output_type": "error",
          "ename": "IndexError",
          "evalue": "ignored",
          "traceback": [
            "\u001b[0;31m---------------------------------------------------------------------------\u001b[0m",
            "\u001b[0;31mIndexError\u001b[0m                                Traceback (most recent call last)",
            "\u001b[0;32m<ipython-input-28-5451d47c444b>\u001b[0m in \u001b[0;36m<module>\u001b[0;34m\u001b[0m\n\u001b[0;32m----> 1\u001b[0;31m \u001b[0mprint\u001b[0m\u001b[0;34m(\u001b[0m\u001b[0ma\u001b[0m\u001b[0;34m[\u001b[0m\u001b[0;36m3\u001b[0m\u001b[0;34m]\u001b[0m\u001b[0;34m)\u001b[0m\u001b[0;34m\u001b[0m\u001b[0;34m\u001b[0m\u001b[0m\n\u001b[0m",
            "\u001b[0;31mIndexError\u001b[0m: list index out of range"
          ]
        }
      ]
    },
    {
      "cell_type": "markdown",
      "source": [
        "### Exercício 2"
      ],
      "metadata": {
        "id": "S2UD9HH-o0Ok"
      }
    },
    {
      "cell_type": "code",
      "source": [
        "minhalista = [76, 92.3, 'oi', True, 4, 76]"
      ],
      "metadata": {
        "id": "lJ2ZOX6YoicB"
      },
      "execution_count": 29,
      "outputs": []
    },
    {
      "cell_type": "code",
      "source": [
        "minhalista = minhalista  + [ 76, \"pitomba\"]"
      ],
      "metadata": {
        "id": "oiB92sB0pDdj"
      },
      "execution_count": 49,
      "outputs": []
    },
    {
      "cell_type": "code",
      "source": [
        "minhalista"
      ],
      "metadata": {
        "colab": {
          "base_uri": "https://localhost:8080/"
        },
        "id": "dSQ4hYNqpS2a",
        "outputId": "2c480276-5b1e-48e5-90be-32af9bd4e445"
      },
      "execution_count": 40,
      "outputs": [
        {
          "output_type": "execute_result",
          "data": {
            "text/plain": [
              "[76, 92.3, 'oi', True, 4, 7, 76, 'pitomba']"
            ]
          },
          "metadata": {},
          "execution_count": 40
        }
      ]
    },
    {
      "cell_type": "code",
      "source": [
        "minhalista[0] = 99"
      ],
      "metadata": {
        "id": "Wl0ButghpV8Z"
      },
      "execution_count": 41,
      "outputs": []
    },
    {
      "cell_type": "code",
      "source": [
        "minhalista[0] == 'oi'"
      ],
      "metadata": {
        "colab": {
          "base_uri": "https://localhost:8080/"
        },
        "id": "F2w70iK2qa5g",
        "outputId": "f2eed969-37cd-4c4c-d56e-da5332166cbc"
      },
      "execution_count": 43,
      "outputs": [
        {
          "output_type": "execute_result",
          "data": {
            "text/plain": [
              "False"
            ]
          },
          "metadata": {},
          "execution_count": 43
        }
      ]
    },
    {
      "cell_type": "code",
      "source": [
        "minhalista[1] == 'oi'"
      ],
      "metadata": {
        "colab": {
          "base_uri": "https://localhost:8080/"
        },
        "id": "E30OdrnMrM5q",
        "outputId": "7af90cfe-97c8-4eff-dce3-990cd1ad086a"
      },
      "execution_count": 44,
      "outputs": [
        {
          "output_type": "execute_result",
          "data": {
            "text/plain": [
              "False"
            ]
          },
          "metadata": {},
          "execution_count": 44
        }
      ]
    },
    {
      "cell_type": "code",
      "source": [
        "uma_lista = [4,2,8,6,5]"
      ],
      "metadata": {
        "id": "eq3vAFb1rX7R"
      },
      "execution_count": 51,
      "outputs": []
    },
    {
      "cell_type": "code",
      "source": [
        "uma_lista = uma_lista + [\"Cibele\"]"
      ],
      "metadata": {
        "id": "MeBdEP9Kr5aJ"
      },
      "execution_count": 53,
      "outputs": []
    },
    {
      "cell_type": "code",
      "source": [
        "print(uma_lista)"
      ],
      "metadata": {
        "colab": {
          "base_uri": "https://localhost:8080/"
        },
        "id": "vbsGRJLzr-fK",
        "outputId": "82fc662e-e8af-4c73-8b40-726888b92765"
      },
      "execution_count": 54,
      "outputs": [
        {
          "output_type": "stream",
          "name": "stdout",
          "text": [
            "[4, 2, 8, 6, 5, 'Cibele']\n"
          ]
        }
      ]
    },
    {
      "cell_type": "code",
      "source": [
        "tupla_numeros = (10, 20, 30)\n",
        "tupla_numeros"
      ],
      "metadata": {
        "colab": {
          "base_uri": "https://localhost:8080/"
        },
        "id": "m5NVz5Bmsk0S",
        "outputId": "82809ec2-ac37-436f-c9ce-a006233da41f"
      },
      "execution_count": 55,
      "outputs": [
        {
          "output_type": "execute_result",
          "data": {
            "text/plain": [
              "(10, 20, 30)"
            ]
          },
          "metadata": {},
          "execution_count": 55
        }
      ]
    },
    {
      "cell_type": "code",
      "source": [
        "tupla_nova = 10,20,30"
      ],
      "metadata": {
        "id": "dTXDtxw5ssVq"
      },
      "execution_count": 56,
      "outputs": []
    },
    {
      "cell_type": "code",
      "source": [
        "tupla_nova"
      ],
      "metadata": {
        "colab": {
          "base_uri": "https://localhost:8080/"
        },
        "id": "w8PcZUeZtZqK",
        "outputId": "420d9dc4-f2ca-4b6e-d2ec-7051d42b4b85"
      },
      "execution_count": 58,
      "outputs": [
        {
          "output_type": "execute_result",
          "data": {
            "text/plain": [
              "(10, 20, 30)"
            ]
          },
          "metadata": {},
          "execution_count": 58
        }
      ]
    },
    {
      "cell_type": "code",
      "source": [
        "tupla_elemento = 10,\n",
        "tupla_elemento"
      ],
      "metadata": {
        "colab": {
          "base_uri": "https://localhost:8080/"
        },
        "id": "_MS5LRiytatK",
        "outputId": "d9e1c89c-a5cf-4b78-935f-0ef8a0d574c0"
      },
      "execution_count": 59,
      "outputs": [
        {
          "output_type": "execute_result",
          "data": {
            "text/plain": [
              "(10,)"
            ]
          },
          "metadata": {},
          "execution_count": 59
        }
      ]
    },
    {
      "cell_type": "code",
      "source": [
        "tupla_vazia= ()"
      ],
      "metadata": {
        "id": "CQ3QX0o1t2nS"
      },
      "execution_count": 60,
      "outputs": []
    },
    {
      "cell_type": "code",
      "source": [
        "nova_tupla =  tuple('Teste')"
      ],
      "metadata": {
        "id": "Y9IFOEr-vaTS"
      },
      "execution_count": 61,
      "outputs": []
    },
    {
      "cell_type": "code",
      "source": [
        "nova_tupla"
      ],
      "metadata": {
        "colab": {
          "base_uri": "https://localhost:8080/"
        },
        "id": "U7cLmkXXverq",
        "outputId": "cf487568-bf58-41fc-cd84-787f571467d6"
      },
      "execution_count": 62,
      "outputs": [
        {
          "output_type": "execute_result",
          "data": {
            "text/plain": [
              "('T', 'e', 's', 't', 'e')"
            ]
          },
          "metadata": {},
          "execution_count": 62
        }
      ]
    },
    {
      "cell_type": "code",
      "source": [
        "tupla_nomes = (\"Marlene\", \"Zezinho\", \"Cibele\", \"Zuely\")"
      ],
      "metadata": {
        "id": "UTiLh1kRvii6"
      },
      "execution_count": 63,
      "outputs": []
    },
    {
      "cell_type": "code",
      "source": [
        "tupla_nomes.count('Marlene')"
      ],
      "metadata": {
        "colab": {
          "base_uri": "https://localhost:8080/"
        },
        "id": "-aTvvt5vwAIi",
        "outputId": "50feff21-8e97-4694-81f6-8a85f4af88ed"
      },
      "execution_count": 64,
      "outputs": [
        {
          "output_type": "execute_result",
          "data": {
            "text/plain": [
              "1"
            ]
          },
          "metadata": {},
          "execution_count": 64
        }
      ]
    },
    {
      "cell_type": "code",
      "source": [
        "tupla_nomes.count('Suely')"
      ],
      "metadata": {
        "colab": {
          "base_uri": "https://localhost:8080/"
        },
        "id": "BnIPi_gXwYJp",
        "outputId": "5f09e817-0a00-4697-d8e9-815ed3b6711e"
      },
      "execution_count": 65,
      "outputs": [
        {
          "output_type": "execute_result",
          "data": {
            "text/plain": [
              "0"
            ]
          },
          "metadata": {},
          "execution_count": 65
        }
      ]
    },
    {
      "cell_type": "code",
      "source": [
        "tupla_nomes.count('Zezinho')"
      ],
      "metadata": {
        "colab": {
          "base_uri": "https://localhost:8080/"
        },
        "id": "-69Ik8GmwbIJ",
        "outputId": "248a2520-e650-4efa-e2c5-48642afb030c"
      },
      "execution_count": 66,
      "outputs": [
        {
          "output_type": "execute_result",
          "data": {
            "text/plain": [
              "1"
            ]
          },
          "metadata": {},
          "execution_count": 66
        }
      ]
    },
    {
      "cell_type": "markdown",
      "source": [
        "### Prática: Criar tuplas com os elementos 1,2,2,3,4,4,4,5 e depois utilize a função count do objeto apra verificar quantas vezes o número 4 aparece na tupla."
      ],
      "metadata": {
        "id": "elcmsUqXwuNN"
      }
    },
    {
      "cell_type": "code",
      "source": [
        "tupla_01 =  (1,2,2,3,4,4,4,5)"
      ],
      "metadata": {
        "id": "JtlFKm5swenJ"
      },
      "execution_count": 67,
      "outputs": []
    },
    {
      "cell_type": "code",
      "source": [
        "tupla_01.count(4)"
      ],
      "metadata": {
        "colab": {
          "base_uri": "https://localhost:8080/"
        },
        "id": "Cb2nfToGw865",
        "outputId": "d3f1fb88-e2a1-46a4-f811-d94326e6d47a"
      },
      "execution_count": 68,
      "outputs": [
        {
          "output_type": "execute_result",
          "data": {
            "text/plain": [
              "3"
            ]
          },
          "metadata": {},
          "execution_count": 68
        }
      ]
    },
    {
      "cell_type": "code",
      "source": [
        "dicio = {'chave': 'valor'}"
      ],
      "metadata": {
        "id": "QHfa0oW-xG_u"
      },
      "execution_count": 69,
      "outputs": []
    },
    {
      "cell_type": "code",
      "source": [
        "print(type(dicio))"
      ],
      "metadata": {
        "colab": {
          "base_uri": "https://localhost:8080/"
        },
        "id": "yiInuDQpyOqh",
        "outputId": "e42283c2-b751-49ac-9bc8-0218b486ec48"
      },
      "execution_count": 71,
      "outputs": [
        {
          "output_type": "stream",
          "name": "stdout",
          "text": [
            "<class 'dict'>\n"
          ]
        }
      ]
    },
    {
      "cell_type": "code",
      "source": [
        "d = {'laranjas':15, 'bananas': 35, 'siriguelas': 12}"
      ],
      "metadata": {
        "id": "1qNuZdZ0yQSp"
      },
      "execution_count": 74,
      "outputs": []
    },
    {
      "cell_type": "code",
      "source": [
        "d['bananas']"
      ],
      "metadata": {
        "colab": {
          "base_uri": "https://localhost:8080/"
        },
        "id": "ErskC8DIy4yx",
        "outputId": "b1c95f86-0b28-4790-968b-b56429e3e355"
      },
      "execution_count": 73,
      "outputs": [
        {
          "output_type": "execute_result",
          "data": {
            "text/plain": [
              "35"
            ]
          },
          "metadata": {},
          "execution_count": 73
        }
      ]
    },
    {
      "cell_type": "code",
      "source": [
        "d['pitomba'] = 20"
      ],
      "metadata": {
        "id": "Fq1nOdpry7AA"
      },
      "execution_count": 75,
      "outputs": []
    },
    {
      "cell_type": "code",
      "source": [
        "len(d)"
      ],
      "metadata": {
        "colab": {
          "base_uri": "https://localhost:8080/"
        },
        "id": "HhbSOsdJzUO4",
        "outputId": "32c173ab-f1a4-42e1-ae6f-b5d090c24282"
      },
      "execution_count": 76,
      "outputs": [
        {
          "output_type": "execute_result",
          "data": {
            "text/plain": [
              "4"
            ]
          },
          "metadata": {},
          "execution_count": 76
        }
      ]
    },
    {
      "cell_type": "code",
      "source": [
        "print(d)"
      ],
      "metadata": {
        "colab": {
          "base_uri": "https://localhost:8080/"
        },
        "id": "DRzj2EyWzWio",
        "outputId": "a743c6ba-4744-4ebc-c358-1237d89e94de"
      },
      "execution_count": 77,
      "outputs": [
        {
          "output_type": "stream",
          "name": "stdout",
          "text": [
            "{'laranjas': 15, 'bananas': 35, 'siriguelas': 12, 'pitomba': 20}\n"
          ]
        }
      ]
    },
    {
      "cell_type": "code",
      "source": [
        "'pitomba' in d"
      ],
      "metadata": {
        "colab": {
          "base_uri": "https://localhost:8080/"
        },
        "id": "gJCWhQYszg4B",
        "outputId": "60fdd60d-2428-43ca-a72a-0a7f8d9f88c4"
      },
      "execution_count": 78,
      "outputs": [
        {
          "output_type": "execute_result",
          "data": {
            "text/plain": [
              "True"
            ]
          },
          "metadata": {},
          "execution_count": 78
        }
      ]
    },
    {
      "cell_type": "code",
      "source": [
        "del d['laranjas']"
      ],
      "metadata": {
        "id": "M9-_mg_Tz0VJ"
      },
      "execution_count": 79,
      "outputs": []
    },
    {
      "cell_type": "code",
      "source": [
        "'laranjas' in d"
      ],
      "metadata": {
        "colab": {
          "base_uri": "https://localhost:8080/"
        },
        "id": "2kiQ6KH-0Z3J",
        "outputId": "72c05645-c6da-43a7-bf67-b5b5dc30fa25"
      },
      "execution_count": 80,
      "outputs": [
        {
          "output_type": "execute_result",
          "data": {
            "text/plain": [
              "False"
            ]
          },
          "metadata": {},
          "execution_count": 80
        }
      ]
    },
    {
      "cell_type": "code",
      "source": [
        "'peras' in d"
      ],
      "metadata": {
        "colab": {
          "base_uri": "https://localhost:8080/"
        },
        "id": "gVFRGAJW0cNK",
        "outputId": "03b7e6a8-9d50-4600-92ab-83c00e4a4828"
      },
      "execution_count": 82,
      "outputs": [
        {
          "output_type": "execute_result",
          "data": {
            "text/plain": [
              "False"
            ]
          },
          "metadata": {},
          "execution_count": 82
        }
      ]
    },
    {
      "cell_type": "markdown",
      "source": [
        "### Concatenação e repetição"
      ],
      "metadata": {
        "id": "Hb7jihol128k"
      }
    },
    {
      "cell_type": "code",
      "source": [
        "frutas = ['pinha', 'oiti coró', 'jaca', 'tamarindo']"
      ],
      "metadata": {
        "id": "D4Q-5HWQ0mKp"
      },
      "execution_count": 85,
      "outputs": []
    },
    {
      "cell_type": "code",
      "source": [
        "print([1,3] + [3,4])"
      ],
      "metadata": {
        "colab": {
          "base_uri": "https://localhost:8080/"
        },
        "id": "bDWk1tZS16nJ",
        "outputId": "dc492f1a-24b5-4d6c-8a72-20bf773c92ca"
      },
      "execution_count": 83,
      "outputs": [
        {
          "output_type": "stream",
          "name": "stdout",
          "text": [
            "[1, 3, 3, 4]\n"
          ]
        }
      ]
    },
    {
      "cell_type": "code",
      "source": [
        "print(frutas + [6,7,8,9])"
      ],
      "metadata": {
        "colab": {
          "base_uri": "https://localhost:8080/"
        },
        "id": "0eigEeiR2Vuh",
        "outputId": "a952aa31-6388-4cc7-86f0-6792c021ff00"
      },
      "execution_count": 86,
      "outputs": [
        {
          "output_type": "stream",
          "name": "stdout",
          "text": [
            "['pinha', 'oiti coró', 'jaca', 'tamarindo', 6, 7, 8, 9]\n"
          ]
        }
      ]
    },
    {
      "cell_type": "code",
      "source": [
        "print([0] * 4)"
      ],
      "metadata": {
        "colab": {
          "base_uri": "https://localhost:8080/"
        },
        "id": "Re-e8C1d2a0x",
        "outputId": "7e1cd9fe-2679-4d9c-9cc4-d175c8743146"
      },
      "execution_count": 87,
      "outputs": [
        {
          "output_type": "stream",
          "name": "stdout",
          "text": [
            "[0, 0, 0, 0]\n"
          ]
        }
      ]
    },
    {
      "cell_type": "code",
      "source": [
        "print([1,2,['oi', 'tchau']] * 2)"
      ],
      "metadata": {
        "colab": {
          "base_uri": "https://localhost:8080/"
        },
        "id": "0n2QSUlS2n5J",
        "outputId": "40c2a168-9075-49f1-9529-1d870074f849"
      },
      "execution_count": 90,
      "outputs": [
        {
          "output_type": "stream",
          "name": "stdout",
          "text": [
            "[1, 2, ['oi', 'tchau'], 1, 2, ['oi', 'tchau']]\n"
          ]
        }
      ]
    },
    {
      "cell_type": "code",
      "source": [
        "minha_lista = []"
      ],
      "metadata": {
        "id": "t3xnGlJY2zcQ"
      },
      "execution_count": 91,
      "outputs": []
    },
    {
      "cell_type": "code",
      "source": [
        "minha_lista.append(5)"
      ],
      "metadata": {
        "id": "YTJpZDwC4QC4"
      },
      "execution_count": 92,
      "outputs": []
    },
    {
      "cell_type": "code",
      "source": [
        "minha_lista.append(27)"
      ],
      "metadata": {
        "id": "1Agu85f94SB4"
      },
      "execution_count": 93,
      "outputs": []
    },
    {
      "cell_type": "code",
      "source": [
        "minha_lista.append(3)"
      ],
      "metadata": {
        "id": "Mo9vw0pI4VrR"
      },
      "execution_count": 94,
      "outputs": []
    },
    {
      "cell_type": "code",
      "source": [
        "minha_lista.append(12)"
      ],
      "metadata": {
        "id": "m_vbGXl34aFx"
      },
      "execution_count": 95,
      "outputs": []
    },
    {
      "cell_type": "code",
      "source": [
        "print(minha_lista)"
      ],
      "metadata": {
        "colab": {
          "base_uri": "https://localhost:8080/"
        },
        "id": "fC4GkVwG4b6R",
        "outputId": "522b4ea8-6945-4a6e-e458-57ecf4624e9b"
      },
      "execution_count": 96,
      "outputs": [
        {
          "output_type": "stream",
          "name": "stdout",
          "text": [
            "[5, 27, 3, 12]\n"
          ]
        }
      ]
    },
    {
      "cell_type": "code",
      "source": [
        "minha_lista.insert(1, 12)"
      ],
      "metadata": {
        "id": "txCYn_ot4eTR"
      },
      "execution_count": 97,
      "outputs": []
    },
    {
      "cell_type": "code",
      "source": [
        "print(minha_lista)"
      ],
      "metadata": {
        "colab": {
          "base_uri": "https://localhost:8080/"
        },
        "id": "KIS6biS547Xw",
        "outputId": "8f73107d-f36a-4f5a-d1b0-779d3cb193ea"
      },
      "execution_count": 98,
      "outputs": [
        {
          "output_type": "stream",
          "name": "stdout",
          "text": [
            "[5, 12, 27, 3, 12]\n"
          ]
        }
      ]
    },
    {
      "cell_type": "code",
      "source": [
        "print(minha_lista.count(12))"
      ],
      "metadata": {
        "colab": {
          "base_uri": "https://localhost:8080/"
        },
        "id": "njJ-wOnG5GG4",
        "outputId": "4f95f107-5349-42e9-b68c-1c3d38ce0de6"
      },
      "execution_count": 99,
      "outputs": [
        {
          "output_type": "stream",
          "name": "stdout",
          "text": [
            "2\n"
          ]
        }
      ]
    },
    {
      "cell_type": "code",
      "source": [
        "print(minha_lista.count(5))"
      ],
      "metadata": {
        "colab": {
          "base_uri": "https://localhost:8080/"
        },
        "id": "qSpWUocJ5N04",
        "outputId": "6b8e5f87-4b44-42af-ca85-cc6356480d45"
      },
      "execution_count": 101,
      "outputs": [
        {
          "output_type": "stream",
          "name": "stdout",
          "text": [
            "1\n"
          ]
        }
      ]
    },
    {
      "cell_type": "code",
      "source": [
        "minha_lista.reverse()"
      ],
      "metadata": {
        "id": "dQS_X6Fl5PX4"
      },
      "execution_count": 102,
      "outputs": []
    },
    {
      "cell_type": "code",
      "source": [
        "print(minha_lista)"
      ],
      "metadata": {
        "colab": {
          "base_uri": "https://localhost:8080/"
        },
        "id": "XppN8yH_57j_",
        "outputId": "b80c9d53-119d-4c8b-b45a-0f944e07231d"
      },
      "execution_count": 103,
      "outputs": [
        {
          "output_type": "stream",
          "name": "stdout",
          "text": [
            "[12, 3, 27, 12, 5]\n"
          ]
        }
      ]
    },
    {
      "cell_type": "code",
      "source": [
        "minha_lista.sort()"
      ],
      "metadata": {
        "id": "Wr0rGBM6595f"
      },
      "execution_count": 104,
      "outputs": []
    },
    {
      "cell_type": "code",
      "source": [
        "print(minha_lista)"
      ],
      "metadata": {
        "colab": {
          "base_uri": "https://localhost:8080/"
        },
        "id": "dHyU59lk6BmH",
        "outputId": "def1a2fb-499f-49e5-8723-5483b9b02e18"
      },
      "execution_count": 105,
      "outputs": [
        {
          "output_type": "stream",
          "name": "stdout",
          "text": [
            "[3, 5, 12, 12, 27]\n"
          ]
        }
      ]
    },
    {
      "cell_type": "code",
      "source": [
        "minha_lista.remove(5)"
      ],
      "metadata": {
        "id": "Z0djm7CT6Eb_"
      },
      "execution_count": 106,
      "outputs": []
    },
    {
      "cell_type": "code",
      "source": [
        "print(minha_lista)"
      ],
      "metadata": {
        "colab": {
          "base_uri": "https://localhost:8080/"
        },
        "id": "n1yTtnIE6LbE",
        "outputId": "298b6cbe-809d-4e28-a2cf-bfc46925a278"
      },
      "execution_count": 107,
      "outputs": [
        {
          "output_type": "stream",
          "name": "stdout",
          "text": [
            "[3, 12, 12, 27]\n"
          ]
        }
      ]
    },
    {
      "cell_type": "code",
      "source": [
        "ultimo_item = minha_lista.pop()"
      ],
      "metadata": {
        "id": "mBrTkg2W6U88"
      },
      "execution_count": 108,
      "outputs": []
    },
    {
      "cell_type": "code",
      "source": [
        "print(ultimo_item)"
      ],
      "metadata": {
        "colab": {
          "base_uri": "https://localhost:8080/"
        },
        "id": "uDHyYpR36xhB",
        "outputId": "39fc8769-8625-402b-aac6-a25726414098"
      },
      "execution_count": 109,
      "outputs": [
        {
          "output_type": "stream",
          "name": "stdout",
          "text": [
            "27\n"
          ]
        }
      ]
    },
    {
      "cell_type": "code",
      "source": [
        "print(minha_lista)"
      ],
      "metadata": {
        "colab": {
          "base_uri": "https://localhost:8080/"
        },
        "id": "JgehPrri60IR",
        "outputId": "4ccbfa3c-fe2c-4225-b9de-ee10a9e3bc43"
      },
      "execution_count": 110,
      "outputs": [
        {
          "output_type": "stream",
          "name": "stdout",
          "text": [
            "[3, 12, 12]\n"
          ]
        }
      ]
    },
    {
      "cell_type": "markdown",
      "source": [
        "## Exercícios"
      ],
      "metadata": {
        "id": "Va_5GHY58LBK"
      }
    },
    {
      "cell_type": "code",
      "source": [
        "palavras = ['codigo', 'linguagem', 'web']"
      ],
      "metadata": {
        "id": "x-pN-On47XhJ"
      },
      "execution_count": 111,
      "outputs": []
    },
    {
      "cell_type": "code",
      "source": [
        "numeros = [18,123]"
      ],
      "metadata": {
        "id": "SM9cQODT8bWX"
      },
      "execution_count": 112,
      "outputs": []
    },
    {
      "cell_type": "code",
      "source": [
        "vazia = []"
      ],
      "metadata": {
        "id": "xXa3n2pv8fJw"
      },
      "execution_count": 113,
      "outputs": []
    },
    {
      "cell_type": "code",
      "source": [
        "lista_mista = ['oi', 2.0, 5*2,[10,20]]"
      ],
      "metadata": {
        "id": "nfhpyDhk8ikn"
      },
      "execution_count": 114,
      "outputs": []
    },
    {
      "cell_type": "code",
      "source": [
        "nova_lista = [numeros, palavras]"
      ],
      "metadata": {
        "id": "qdF7fOHT8p3Y"
      },
      "execution_count": 115,
      "outputs": []
    },
    {
      "cell_type": "code",
      "source": [
        "print(nova_lista)"
      ],
      "metadata": {
        "colab": {
          "base_uri": "https://localhost:8080/"
        },
        "id": "rEdywyXB9ImY",
        "outputId": "bfeaff14-c36b-4444-92f3-67eecf0ed7d3"
      },
      "execution_count": 116,
      "outputs": [
        {
          "output_type": "stream",
          "name": "stdout",
          "text": [
            "[[18, 123], ['codigo', 'linguagem', 'web']]\n"
          ]
        }
      ]
    },
    {
      "cell_type": "code",
      "source": [
        "uma_lista = ['oi', 2.0, 5, [10,20]]"
      ],
      "metadata": {
        "id": "R5Qs4PYL9KIA"
      },
      "execution_count": 117,
      "outputs": []
    },
    {
      "cell_type": "code",
      "source": [
        "print(len(uma_lista))"
      ],
      "metadata": {
        "colab": {
          "base_uri": "https://localhost:8080/"
        },
        "id": "yxnnTnSU9xGY",
        "outputId": "fe3a2e6e-41d5-4fda-9ec1-55777b1448d8"
      },
      "execution_count": 118,
      "outputs": [
        {
          "output_type": "stream",
          "name": "stdout",
          "text": [
            "4\n"
          ]
        }
      ]
    },
    {
      "cell_type": "code",
      "source": [
        "print(len(['spam!',1,['bolo','bolacha','biscoito'],[1,2,3]]))"
      ],
      "metadata": {
        "colab": {
          "base_uri": "https://localhost:8080/"
        },
        "id": "5kYlqRKi9y9g",
        "outputId": "0f2f6155-2be7-4ef0-b00b-cf804ec5e7d9"
      },
      "execution_count": 121,
      "outputs": [
        {
          "output_type": "stream",
          "name": "stdout",
          "text": [
            "4\n"
          ]
        }
      ]
    },
    {
      "cell_type": "code",
      "source": [
        "s = 'python'"
      ],
      "metadata": {
        "id": "8zSwJWi9-S4Y"
      },
      "execution_count": 122,
      "outputs": []
    },
    {
      "cell_type": "code",
      "source": [
        "\n",
        "s[0]"
      ],
      "metadata": {
        "colab": {
          "base_uri": "https://localhost:8080/",
          "height": 35
        },
        "id": "JQi2zM3zFeMf",
        "outputId": "535f6a3e-f046-433d-f0f8-e14ca8d8d978"
      },
      "execution_count": 123,
      "outputs": [
        {
          "output_type": "execute_result",
          "data": {
            "text/plain": [
              "'p'"
            ],
            "application/vnd.google.colaboratory.intrinsic+json": {
              "type": "string"
            }
          },
          "metadata": {},
          "execution_count": 123
        }
      ]
    },
    {
      "cell_type": "code",
      "source": [
        "s[1]"
      ],
      "metadata": {
        "colab": {
          "base_uri": "https://localhost:8080/",
          "height": 35
        },
        "id": "9TKfVDohFfOH",
        "outputId": "a2582272-3ebb-4da6-b088-d9e0f368ad38"
      },
      "execution_count": 124,
      "outputs": [
        {
          "output_type": "execute_result",
          "data": {
            "text/plain": [
              "'y'"
            ],
            "application/vnd.google.colaboratory.intrinsic+json": {
              "type": "string"
            }
          },
          "metadata": {},
          "execution_count": 124
        }
      ]
    },
    {
      "cell_type": "code",
      "source": [
        "# pega o último elemento\n",
        "s[len(s)-1] "
      ],
      "metadata": {
        "colab": {
          "base_uri": "https://localhost:8080/",
          "height": 35
        },
        "id": "d4KVI1lgFgpI",
        "outputId": "e4e329db-c10f-4c32-e858-21112edb24ab"
      },
      "execution_count": 126,
      "outputs": [
        {
          "output_type": "execute_result",
          "data": {
            "text/plain": [
              "'n'"
            ],
            "application/vnd.google.colaboratory.intrinsic+json": {
              "type": "string"
            }
          },
          "metadata": {},
          "execution_count": 126
        }
      ]
    },
    {
      "cell_type": "code",
      "source": [
        "s[-1]"
      ],
      "metadata": {
        "colab": {
          "base_uri": "https://localhost:8080/",
          "height": 35
        },
        "id": "NIafYjboF2RG",
        "outputId": "7a8b215c-a1b4-46df-d52f-a32e4729e167"
      },
      "execution_count": 127,
      "outputs": [
        {
          "output_type": "execute_result",
          "data": {
            "text/plain": [
              "'n'"
            ],
            "application/vnd.google.colaboratory.intrinsic+json": {
              "type": "string"
            }
          },
          "metadata": {},
          "execution_count": 127
        }
      ]
    },
    {
      "cell_type": "code",
      "source": [
        "s[-5]"
      ],
      "metadata": {
        "colab": {
          "base_uri": "https://localhost:8080/",
          "height": 35
        },
        "id": "OhcsT95CGPpP",
        "outputId": "b0b0ec3c-d4c2-4fc1-f8f6-81b016460700"
      },
      "execution_count": 128,
      "outputs": [
        {
          "output_type": "execute_result",
          "data": {
            "text/plain": [
              "'y'"
            ],
            "application/vnd.google.colaboratory.intrinsic+json": {
              "type": "string"
            }
          },
          "metadata": {},
          "execution_count": 128
        }
      ]
    },
    {
      "cell_type": "code",
      "source": [
        "s = 'ABCDEFG'"
      ],
      "metadata": {
        "id": "4ZLee5agGRy_"
      },
      "execution_count": 129,
      "outputs": []
    },
    {
      "cell_type": "code",
      "source": [
        "s[0:2]"
      ],
      "metadata": {
        "colab": {
          "base_uri": "https://localhost:8080/",
          "height": 35
        },
        "id": "ruomIl4fHwkv",
        "outputId": "355e1076-b233-4278-a9e1-fa9e2d68a970"
      },
      "execution_count": 130,
      "outputs": [
        {
          "output_type": "execute_result",
          "data": {
            "text/plain": [
              "'AB'"
            ],
            "application/vnd.google.colaboratory.intrinsic+json": {
              "type": "string"
            }
          },
          "metadata": {},
          "execution_count": 130
        }
      ]
    },
    {
      "cell_type": "code",
      "source": [
        "s[1:5:2]"
      ],
      "metadata": {
        "colab": {
          "base_uri": "https://localhost:8080/",
          "height": 35
        },
        "id": "8aTkvYSYHyk_",
        "outputId": "95106055-8e36-4247-8da6-69ffe1e5cc05"
      },
      "execution_count": 131,
      "outputs": [
        {
          "output_type": "execute_result",
          "data": {
            "text/plain": [
              "'BD'"
            ],
            "application/vnd.google.colaboratory.intrinsic+json": {
              "type": "string"
            }
          },
          "metadata": {},
          "execution_count": 131
        }
      ]
    },
    {
      "cell_type": "code",
      "source": [
        "s[3:6:2]"
      ],
      "metadata": {
        "colab": {
          "base_uri": "https://localhost:8080/",
          "height": 35
        },
        "id": "a-TLgT1oH1SU",
        "outputId": "a789316d-274a-43f2-ad10-60385b3a0ac9"
      },
      "execution_count": 132,
      "outputs": [
        {
          "output_type": "execute_result",
          "data": {
            "text/plain": [
              "'DF'"
            ],
            "application/vnd.google.colaboratory.intrinsic+json": {
              "type": "string"
            }
          },
          "metadata": {},
          "execution_count": 132
        }
      ]
    },
    {
      "cell_type": "code",
      "source": [
        "s[:2]"
      ],
      "metadata": {
        "colab": {
          "base_uri": "https://localhost:8080/",
          "height": 35
        },
        "id": "zGzK60-NH4EL",
        "outputId": "35f0419f-0e3c-494d-ffd3-0bde1126fda1"
      },
      "execution_count": 140,
      "outputs": [
        {
          "output_type": "execute_result",
          "data": {
            "text/plain": [
              "'AB'"
            ],
            "application/vnd.google.colaboratory.intrinsic+json": {
              "type": "string"
            }
          },
          "metadata": {},
          "execution_count": 140
        }
      ]
    },
    {
      "cell_type": "code",
      "source": [
        "s[3:]"
      ],
      "metadata": {
        "colab": {
          "base_uri": "https://localhost:8080/",
          "height": 35
        },
        "id": "NqMWY6n1IY8f",
        "outputId": "88c13948-420f-49fc-8cb4-f454ada7e9e1"
      },
      "execution_count": 135,
      "outputs": [
        {
          "output_type": "execute_result",
          "data": {
            "text/plain": [
              "'DEFG'"
            ],
            "application/vnd.google.colaboratory.intrinsic+json": {
              "type": "string"
            }
          },
          "metadata": {},
          "execution_count": 135
        }
      ]
    },
    {
      "cell_type": "code",
      "source": [
        "s[3::2]"
      ],
      "metadata": {
        "colab": {
          "base_uri": "https://localhost:8080/",
          "height": 35
        },
        "id": "i5UJ8-cnIe0v",
        "outputId": "345d9fd2-6620-48ae-86a8-2436a3c2364e"
      },
      "execution_count": 136,
      "outputs": [
        {
          "output_type": "execute_result",
          "data": {
            "text/plain": [
              "'DF'"
            ],
            "application/vnd.google.colaboratory.intrinsic+json": {
              "type": "string"
            }
          },
          "metadata": {},
          "execution_count": 136
        }
      ]
    },
    {
      "cell_type": "code",
      "source": [
        "s[::]"
      ],
      "metadata": {
        "colab": {
          "base_uri": "https://localhost:8080/",
          "height": 35
        },
        "id": "Tz4AlkokImlH",
        "outputId": "4b875888-1a94-49c5-86a0-30959f03bdcd"
      },
      "execution_count": 138,
      "outputs": [
        {
          "output_type": "execute_result",
          "data": {
            "text/plain": [
              "'ABCDEFG'"
            ],
            "application/vnd.google.colaboratory.intrinsic+json": {
              "type": "string"
            }
          },
          "metadata": {},
          "execution_count": 138
        }
      ]
    },
    {
      "cell_type": "code",
      "source": [
        "s[::3]"
      ],
      "metadata": {
        "colab": {
          "base_uri": "https://localhost:8080/",
          "height": 35
        },
        "id": "j9igkvi8IpXv",
        "outputId": "8879cf47-f06d-4939-fbe4-fb6e8010bfed"
      },
      "execution_count": 139,
      "outputs": [
        {
          "output_type": "execute_result",
          "data": {
            "text/plain": [
              "'ADG'"
            ],
            "application/vnd.google.colaboratory.intrinsic+json": {
              "type": "string"
            }
          },
          "metadata": {},
          "execution_count": 139
        }
      ]
    },
    {
      "cell_type": "code",
      "source": [
        "# pega o último elemento e vai até o fim \n",
        "s[-1:]"
      ],
      "metadata": {
        "colab": {
          "base_uri": "https://localhost:8080/",
          "height": 35
        },
        "id": "fK4cSB5LIsSn",
        "outputId": "618d7df9-fe78-46f4-c3b9-8f666a0f48a7"
      },
      "execution_count": 145,
      "outputs": [
        {
          "output_type": "execute_result",
          "data": {
            "text/plain": [
              "'G'"
            ],
            "application/vnd.google.colaboratory.intrinsic+json": {
              "type": "string"
            }
          },
          "metadata": {},
          "execution_count": 145
        }
      ]
    },
    {
      "cell_type": "code",
      "source": [
        "s[0:-2]"
      ],
      "metadata": {
        "colab": {
          "base_uri": "https://localhost:8080/",
          "height": 35
        },
        "id": "v3HdcIgBLlb3",
        "outputId": "37ee7b24-65e9-4266-b196-91ba7ade00c1"
      },
      "execution_count": 143,
      "outputs": [
        {
          "output_type": "execute_result",
          "data": {
            "text/plain": [
              "'ABCDE'"
            ],
            "application/vnd.google.colaboratory.intrinsic+json": {
              "type": "string"
            }
          },
          "metadata": {},
          "execution_count": 143
        }
      ]
    },
    {
      "cell_type": "code",
      "source": [
        "s[-3:-1]"
      ],
      "metadata": {
        "colab": {
          "base_uri": "https://localhost:8080/",
          "height": 35
        },
        "id": "zLqr_R9SLzgG",
        "outputId": "77109cd5-ccc3-48bc-9e10-4ab9232b667d"
      },
      "execution_count": 146,
      "outputs": [
        {
          "output_type": "execute_result",
          "data": {
            "text/plain": [
              "'EF'"
            ],
            "application/vnd.google.colaboratory.intrinsic+json": {
              "type": "string"
            }
          },
          "metadata": {},
          "execution_count": 146
        }
      ]
    },
    {
      "cell_type": "code",
      "source": [
        "s[-3:]"
      ],
      "metadata": {
        "colab": {
          "base_uri": "https://localhost:8080/",
          "height": 35
        },
        "id": "QJuVT5XeMMEW",
        "outputId": "49eb1be9-c44d-4723-b72e-e55de5de072a"
      },
      "execution_count": 147,
      "outputs": [
        {
          "output_type": "execute_result",
          "data": {
            "text/plain": [
              "'EFG'"
            ],
            "application/vnd.google.colaboratory.intrinsic+json": {
              "type": "string"
            }
          },
          "metadata": {},
          "execution_count": 147
        }
      ]
    },
    {
      "cell_type": "code",
      "source": [
        "s[-5:6]"
      ],
      "metadata": {
        "colab": {
          "base_uri": "https://localhost:8080/",
          "height": 35
        },
        "id": "tcUirXrUMO3n",
        "outputId": "a20cead6-3cf1-4a95-dc01-d5ce2caa3150"
      },
      "execution_count": 148,
      "outputs": [
        {
          "output_type": "execute_result",
          "data": {
            "text/plain": [
              "'CDEF'"
            ],
            "application/vnd.google.colaboratory.intrinsic+json": {
              "type": "string"
            }
          },
          "metadata": {},
          "execution_count": 148
        }
      ]
    },
    {
      "cell_type": "code",
      "source": [
        "s[-1:-4:-1]"
      ],
      "metadata": {
        "colab": {
          "base_uri": "https://localhost:8080/",
          "height": 35
        },
        "id": "I3xQEZhlMR0-",
        "outputId": "39ae8ced-118a-4b37-da78-d3618b246473"
      },
      "execution_count": 149,
      "outputs": [
        {
          "output_type": "execute_result",
          "data": {
            "text/plain": [
              "'GFE'"
            ],
            "application/vnd.google.colaboratory.intrinsic+json": {
              "type": "string"
            }
          },
          "metadata": {},
          "execution_count": 149
        }
      ]
    },
    {
      "cell_type": "code",
      "source": [
        "linguagem_preferida = 'Python'"
      ],
      "metadata": {
        "id": "P3XA0vAFMWGu"
      },
      "execution_count": 150,
      "outputs": []
    },
    {
      "cell_type": "code",
      "source": [
        "'P' in linguagem_preferida"
      ],
      "metadata": {
        "colab": {
          "base_uri": "https://localhost:8080/"
        },
        "id": "gG4f-uIrN5HW",
        "outputId": "634126ab-a145-46ad-e6ec-c4072a95ee4e"
      },
      "execution_count": 151,
      "outputs": [
        {
          "output_type": "execute_result",
          "data": {
            "text/plain": [
              "True"
            ]
          },
          "metadata": {},
          "execution_count": 151
        }
      ]
    },
    {
      "cell_type": "code",
      "source": [
        "'p' in linguagem_preferida"
      ],
      "metadata": {
        "colab": {
          "base_uri": "https://localhost:8080/"
        },
        "id": "oAampHomOBBl",
        "outputId": "4eb215a3-9647-483c-e62e-48c45d8869ec"
      },
      "execution_count": 152,
      "outputs": [
        {
          "output_type": "execute_result",
          "data": {
            "text/plain": [
              "False"
            ]
          },
          "metadata": {},
          "execution_count": 152
        }
      ]
    },
    {
      "cell_type": "code",
      "source": [
        "linguagem_preferida in linguagem_preferida"
      ],
      "metadata": {
        "colab": {
          "base_uri": "https://localhost:8080/"
        },
        "id": "zwepk0TsOG09",
        "outputId": "c737e86f-bca4-4684-d370-9121b8754900"
      },
      "execution_count": 153,
      "outputs": [
        {
          "output_type": "execute_result",
          "data": {
            "text/plain": [
              "True"
            ]
          },
          "metadata": {},
          "execution_count": 153
        }
      ]
    },
    {
      "cell_type": "code",
      "source": [
        "'python'.upper()"
      ],
      "metadata": {
        "colab": {
          "base_uri": "https://localhost:8080/",
          "height": 35
        },
        "id": "PM52Nrb-OQn9",
        "outputId": "bdf08f3d-b538-4a8d-bce9-19aa652b376b"
      },
      "execution_count": 154,
      "outputs": [
        {
          "output_type": "execute_result",
          "data": {
            "text/plain": [
              "'PYTHON'"
            ],
            "application/vnd.google.colaboratory.intrinsic+json": {
              "type": "string"
            }
          },
          "metadata": {},
          "execution_count": 154
        }
      ]
    },
    {
      "cell_type": "code",
      "source": [
        "verdade = 'python é legal'"
      ],
      "metadata": {
        "id": "gV6MFbWTO5ku"
      },
      "execution_count": 155,
      "outputs": []
    },
    {
      "cell_type": "code",
      "source": [
        "'python'.title()"
      ],
      "metadata": {
        "colab": {
          "base_uri": "https://localhost:8080/",
          "height": 35
        },
        "id": "yhabUnEAO-2W",
        "outputId": "6b7c7107-1822-4b88-cc93-05f3a6dbf6aa"
      },
      "execution_count": 156,
      "outputs": [
        {
          "output_type": "execute_result",
          "data": {
            "text/plain": [
              "'Python'"
            ],
            "application/vnd.google.colaboratory.intrinsic+json": {
              "type": "string"
            }
          },
          "metadata": {},
          "execution_count": 156
        }
      ]
    },
    {
      "cell_type": "code",
      "source": [
        "' '.join(verdade.split())"
      ],
      "metadata": {
        "colab": {
          "base_uri": "https://localhost:8080/",
          "height": 35
        },
        "id": "HNXsKK4PPDV2",
        "outputId": "c0a5c0a7-d62b-40d6-de76-3dc665627e42"
      },
      "execution_count": 162,
      "outputs": [
        {
          "output_type": "execute_result",
          "data": {
            "text/plain": [
              "'python é legal'"
            ],
            "application/vnd.google.colaboratory.intrinsic+json": {
              "type": "string"
            }
          },
          "metadata": {},
          "execution_count": 162
        }
      ]
    },
    {
      "cell_type": "code",
      "source": [
        "'python é legal'.split()"
      ],
      "metadata": {
        "colab": {
          "base_uri": "https://localhost:8080/"
        },
        "id": "O2uNHbxEPISG",
        "outputId": "cffbd2bb-e04b-4297-f310-e30f2b66a746"
      },
      "execution_count": 160,
      "outputs": [
        {
          "output_type": "execute_result",
          "data": {
            "text/plain": [
              "['python', 'é', 'legal']"
            ]
          },
          "metadata": {},
          "execution_count": 160
        }
      ]
    },
    {
      "cell_type": "code",
      "source": [
        "linguagem_preferida = 'Python'"
      ],
      "metadata": {
        "id": "h0-j-KQrPftm"
      },
      "execution_count": 164,
      "outputs": []
    },
    {
      "cell_type": "code",
      "source": [
        "print('Eu amo %s' %(linguagem_preferida))"
      ],
      "metadata": {
        "colab": {
          "base_uri": "https://localhost:8080/"
        },
        "id": "xzqjVw5DQRIG",
        "outputId": "af7b3d6f-8286-43a2-aa0a-59b0eda671c9"
      },
      "execution_count": 165,
      "outputs": [
        {
          "output_type": "stream",
          "name": "stdout",
          "text": [
            "Eu amo Python\n"
          ]
        }
      ]
    },
    {
      "cell_type": "code",
      "source": [
        "print('Eu tenho %02d anos de idade' %(9))"
      ],
      "metadata": {
        "colab": {
          "base_uri": "https://localhost:8080/"
        },
        "id": "qg7JhG1PQfWe",
        "outputId": "9f213f77-0ae9-44f8-cb1a-37675df25fe0"
      },
      "execution_count": 167,
      "outputs": [
        {
          "output_type": "stream",
          "name": "stdout",
          "text": [
            "Eu tenho 09 anos de idade\n"
          ]
        }
      ]
    },
    {
      "cell_type": "code",
      "source": [
        "print('Eu tenho %03d anos de idade e %2.5f na poupança' %(19,100))"
      ],
      "metadata": {
        "colab": {
          "base_uri": "https://localhost:8080/"
        },
        "id": "j55wL06VQ8d2",
        "outputId": "38acaf1e-2c66-4224-c547-64eff31e79f5"
      },
      "execution_count": 168,
      "outputs": [
        {
          "output_type": "stream",
          "name": "stdout",
          "text": [
            "Eu tenho 019 anos de idade e 100.00000 na poupança\n"
          ]
        }
      ]
    },
    {
      "cell_type": "code",
      "source": [],
      "metadata": {
        "id": "L7e_tFPaRGdu"
      },
      "execution_count": null,
      "outputs": []
    },
    {
      "cell_type": "markdown",
      "source": [
        "## Desafio:\n",
        "\n",
        "### Faça um programa  que permite ao usuário digitar o nome e em seguida mostre o nome do usuário de trás pra frente utilizando só letras maiusculas."
      ],
      "metadata": {
        "id": "qYwbFSFcSZka"
      }
    },
    {
      "cell_type": "code",
      "source": [
        "nome = input('Digite seu nome: ').upper()\n",
        "nome.split()\n",
        "nome[::-1]"
      ],
      "metadata": {
        "colab": {
          "base_uri": "https://localhost:8080/",
          "height": 53
        },
        "id": "XCOizDSES0je",
        "outputId": "86c2e854-c648-4613-89b2-c118155bd70e"
      },
      "execution_count": 179,
      "outputs": [
        {
          "name": "stdout",
          "output_type": "stream",
          "text": [
            "Digite seu nome: gleyce\n"
          ]
        },
        {
          "output_type": "execute_result",
          "data": {
            "text/plain": [
              "'ECYELG'"
            ],
            "application/vnd.google.colaboratory.intrinsic+json": {
              "type": "string"
            }
          },
          "metadata": {},
          "execution_count": 179
        }
      ]
    },
    {
      "cell_type": "code",
      "source": [],
      "metadata": {
        "id": "szYeXqOFTKfG"
      },
      "execution_count": null,
      "outputs": []
    }
  ]
}