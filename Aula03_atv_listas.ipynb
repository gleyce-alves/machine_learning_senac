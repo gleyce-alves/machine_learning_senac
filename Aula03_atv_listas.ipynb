{
  "nbformat": 4,
  "nbformat_minor": 0,
  "metadata": {
    "colab": {
      "provenance": [],
      "authorship_tag": "ABX9TyOIPonPk25PuEl0yg+N5sJI",
      "include_colab_link": true
    },
    "kernelspec": {
      "name": "python3",
      "display_name": "Python 3"
    },
    "language_info": {
      "name": "python"
    }
  },
  "cells": [
    {
      "cell_type": "markdown",
      "metadata": {
        "id": "view-in-github",
        "colab_type": "text"
      },
      "source": [
        "<a href=\"https://colab.research.google.com/github/gleyce-alves/machine_learning_senac/blob/main/Aula03_atv_listas.ipynb\" target=\"_parent\"><img src=\"https://colab.research.google.com/assets/colab-badge.svg\" alt=\"Open In Colab\"/></a>"
      ]
    },
    {
      "cell_type": "markdown",
      "source": [
        "### Exercício 01"
      ],
      "metadata": {
        "id": "-UCzMU1hcxB-"
      }
    },
    {
      "cell_type": "code",
      "execution_count": null,
      "metadata": {
        "id": "1FiAnytIcPTl"
      },
      "outputs": [],
      "source": [
        "palavras = [\"codigo\", \"linguagem\", \"web\"]"
      ]
    },
    {
      "cell_type": "code",
      "source": [
        "numeros = [18, 123]"
      ],
      "metadata": {
        "id": "44htu7yDchQC"
      },
      "execution_count": null,
      "outputs": []
    },
    {
      "cell_type": "code",
      "source": [
        "vazia = []"
      ],
      "metadata": {
        "id": "KrnAIUg_coFW"
      },
      "execution_count": null,
      "outputs": []
    },
    {
      "cell_type": "code",
      "source": [
        "lista_mista = [\"oi\", 2.0, 5*2, [10,20]]"
      ],
      "metadata": {
        "id": "LXy2P3H4cpi2"
      },
      "execution_count": null,
      "outputs": []
    },
    {
      "cell_type": "code",
      "source": [
        "print(numeros)"
      ],
      "metadata": {
        "colab": {
          "base_uri": "https://localhost:8080/"
        },
        "id": "9y-0HCt-cvZW",
        "outputId": "f9bee983-9ef2-48de-a14b-5590850e8086"
      },
      "execution_count": null,
      "outputs": [
        {
          "output_type": "stream",
          "name": "stdout",
          "text": [
            "[18, 123]\n"
          ]
        }
      ]
    },
    {
      "cell_type": "code",
      "source": [
        "print(lista_mista)"
      ],
      "metadata": {
        "colab": {
          "base_uri": "https://localhost:8080/"
        },
        "id": "D8SNONuxc29X",
        "outputId": "00a511c9-fe94-4cad-f455-6250859aaa6a"
      },
      "execution_count": null,
      "outputs": [
        {
          "output_type": "stream",
          "name": "stdout",
          "text": [
            "['oi', 2.0, 10, [10, 20]]\n"
          ]
        }
      ]
    },
    {
      "cell_type": "code",
      "source": [
        "nova_lista = [numeros,palavras]"
      ],
      "metadata": {
        "id": "JC9MRVY1c6M8"
      },
      "execution_count": null,
      "outputs": []
    },
    {
      "cell_type": "code",
      "source": [
        "print(nova_lista)"
      ],
      "metadata": {
        "colab": {
          "base_uri": "https://localhost:8080/"
        },
        "id": "lKa3pUsHc9X6",
        "outputId": "3a18fdb2-e06f-4c01-d462-f28aa373b92a"
      },
      "execution_count": null,
      "outputs": [
        {
          "output_type": "stream",
          "name": "stdout",
          "text": [
            "[[18, 123], ['codigo', 'linguagem', 'web']]\n"
          ]
        }
      ]
    },
    {
      "cell_type": "markdown",
      "source": [
        "### Exercício 02"
      ],
      "metadata": {
        "id": "E7e0-9n2dGCS"
      }
    },
    {
      "cell_type": "code",
      "source": [
        "uma_lista = [\"oi\", 2.0, 5, [10, 20]]"
      ],
      "metadata": {
        "id": "KmqpkmBHc_4J"
      },
      "execution_count": null,
      "outputs": []
    },
    {
      "cell_type": "code",
      "source": [
        "print(len(uma_lista))"
      ],
      "metadata": {
        "colab": {
          "base_uri": "https://localhost:8080/"
        },
        "id": "MoqCTbc4dIgh",
        "outputId": "e65e9d7c-8340-4b4f-bc3e-2105deaba044"
      },
      "execution_count": null,
      "outputs": [
        {
          "output_type": "stream",
          "name": "stdout",
          "text": [
            "4\n"
          ]
        }
      ]
    },
    {
      "cell_type": "code",
      "source": [
        "print(len(['spam!', 1, ['bolo', 'bolacha', 'biscoito'], [1, 2, 3]]))"
      ],
      "metadata": {
        "id": "z1RJ5vP6dJtK"
      },
      "execution_count": null,
      "outputs": []
    },
    {
      "cell_type": "markdown",
      "source": [
        "### Exercício 03"
      ],
      "metadata": {
        "id": "NuXlptTwdLg2"
      }
    },
    {
      "cell_type": "code",
      "source": [
        "numeros = [18, 424, 86, 13, 66, 8338, 74]"
      ],
      "metadata": {
        "id": "MnUPZRAddNyx"
      },
      "execution_count": null,
      "outputs": []
    },
    {
      "cell_type": "code",
      "source": [
        "print(numeros[2])"
      ],
      "metadata": {
        "colab": {
          "base_uri": "https://localhost:8080/"
        },
        "id": "YZKECg1sdPv7",
        "outputId": "4ee89362-7a95-4569-bfe8-ea2d0795cefe"
      },
      "execution_count": null,
      "outputs": [
        {
          "output_type": "stream",
          "name": "stdout",
          "text": [
            "86\n"
          ]
        }
      ]
    },
    {
      "cell_type": "markdown",
      "source": [
        "Printa o item da posição 02 da lista, correspondente ao valor 86."
      ],
      "metadata": {
        "id": "jpaf369bn2gC"
      }
    },
    {
      "cell_type": "code",
      "source": [
        "print(numeros[9-8])"
      ],
      "metadata": {
        "colab": {
          "base_uri": "https://localhost:8080/"
        },
        "id": "smshUtg4dS8D",
        "outputId": "82567c8b-0df6-4d1c-a084-4fbd5a5f4109"
      },
      "execution_count": null,
      "outputs": [
        {
          "output_type": "stream",
          "name": "stdout",
          "text": [
            "424\n"
          ]
        }
      ]
    },
    {
      "cell_type": "markdown",
      "source": [
        "Printa o item da posição 01 da lista, correspondente ao valor 424."
      ],
      "metadata": {
        "id": "ft-IPcQdoBAD"
      }
    },
    {
      "cell_type": "code",
      "source": [
        "print(numeros[-2])"
      ],
      "metadata": {
        "colab": {
          "base_uri": "https://localhost:8080/"
        },
        "id": "FZch-3c4dUfs",
        "outputId": "a1f579df-df3c-4275-a0c8-8b7f4704e26c"
      },
      "execution_count": null,
      "outputs": [
        {
          "output_type": "stream",
          "name": "stdout",
          "text": [
            "8338\n"
          ]
        }
      ]
    },
    {
      "cell_type": "markdown",
      "source": [
        "Printa o item da penúltima posição da lista, correspondente ao valor 8338."
      ],
      "metadata": {
        "id": "ybKuGYdJoInR"
      }
    },
    {
      "cell_type": "code",
      "source": [
        "print(numeros[len(numeros)-1])"
      ],
      "metadata": {
        "id": "nUSDF6KydXOb"
      },
      "execution_count": null,
      "outputs": []
    },
    {
      "cell_type": "markdown",
      "source": [
        "Printa o número correspondente a posição referente a quantidade de itens da lista - 1, ou seja, numeros[len(numeros)-1] = numeros[6] = 74."
      ],
      "metadata": {
        "id": "IT_0VaCKoWK9"
      }
    },
    {
      "cell_type": "markdown",
      "source": [
        "### Exercício 04"
      ],
      "metadata": {
        "id": "bc1F5s0QdYg2"
      }
    },
    {
      "cell_type": "code",
      "source": [
        "uma_lista = [3, 5, \"Cibele\", 3.14, False]"
      ],
      "metadata": {
        "id": "X5mcpTuFdaj7"
      },
      "execution_count": null,
      "outputs": []
    },
    {
      "cell_type": "code",
      "source": [
        "print(len(uma_lista))"
      ],
      "metadata": {
        "colab": {
          "base_uri": "https://localhost:8080/"
        },
        "id": "ksaaj1Obdb3O",
        "outputId": "6f1be018-a44a-4748-d7ce-f87fddb3af6f"
      },
      "execution_count": null,
      "outputs": [
        {
          "output_type": "stream",
          "name": "stdout",
          "text": [
            "5\n"
          ]
        }
      ]
    },
    {
      "cell_type": "markdown",
      "source": [
        "Printa o comprimento de *uma_lista*\n"
      ],
      "metadata": {
        "id": "fdR_sGb_cJn1"
      }
    },
    {
      "cell_type": "markdown",
      "source": [
        "### Exercício 05"
      ],
      "metadata": {
        "id": "2LNJm18Cdd81"
      }
    },
    {
      "cell_type": "code",
      "source": [
        "uma_lista = [3, 5, \"Cibele\", [88, 99, \"Suely\"], [ ], 3.14, False]"
      ],
      "metadata": {
        "id": "E-Yd7Lg_ddL1"
      },
      "execution_count": null,
      "outputs": []
    },
    {
      "cell_type": "code",
      "source": [
        "print(len(uma_lista[5]))"
      ],
      "metadata": {
        "id": "cFFcIaitdjE0"
      },
      "execution_count": null,
      "outputs": []
    },
    {
      "cell_type": "markdown",
      "source": [
        "Printa o quinto elemento da lista, nesse caso é 3.14."
      ],
      "metadata": {
        "id": "NVU_yxy3cvzu"
      }
    },
    {
      "cell_type": "markdown",
      "source": [
        "### Exercício 06"
      ],
      "metadata": {
        "id": "8OgOXINQdlPu"
      }
    },
    {
      "cell_type": "code",
      "source": [
        "uma_lista = [3, 5, \"Cibele\", [88, 99, \"Suely\"], [ ], 3.14, False]"
      ],
      "metadata": {
        "id": "l0hN06cpdnd1"
      },
      "execution_count": null,
      "outputs": []
    },
    {
      "cell_type": "code",
      "source": [
        "print(uma_lista)"
      ],
      "metadata": {
        "colab": {
          "base_uri": "https://localhost:8080/"
        },
        "id": "IXZQ_kXZdqg-",
        "outputId": "762d8223-c6db-4c9b-9bc7-bbeb2a5b2979"
      },
      "execution_count": null,
      "outputs": [
        {
          "output_type": "stream",
          "name": "stdout",
          "text": [
            "[3, 5, 'Cibele', [88, 99, 'Suely'], [], 3.14, False]\n"
          ]
        }
      ]
    },
    {
      "cell_type": "code",
      "source": [
        "print(uma_lista[5])"
      ],
      "metadata": {
        "colab": {
          "base_uri": "https://localhost:8080/"
        },
        "id": "7XT0xQaVdtfG",
        "outputId": "27f51dd7-b788-451c-8ff8-14748771cf43"
      },
      "execution_count": null,
      "outputs": [
        {
          "output_type": "stream",
          "name": "stdout",
          "text": [
            "3.14\n"
          ]
        }
      ]
    },
    {
      "cell_type": "markdown",
      "source": [
        "Printa o 5° elemento da lista, nesse caso é 3.14"
      ],
      "metadata": {
        "id": "ipoM2f3aotgE"
      }
    },
    {
      "cell_type": "markdown",
      "source": [
        "### Exercício 07"
      ],
      "metadata": {
        "id": "QVJ_0oJLdw4T"
      }
    },
    {
      "cell_type": "code",
      "source": [
        "uma_lista = [3, 5, \"Cibele\", [88, 99, \"Suely\"], [ ], 3.14, False]"
      ],
      "metadata": {
        "id": "39ctqSswdvsR"
      },
      "execution_count": null,
      "outputs": []
    },
    {
      "cell_type": "code",
      "source": [
        "print(uma_lista[2].upper())"
      ],
      "metadata": {
        "id": "e5uKX3Vqdywn"
      },
      "execution_count": null,
      "outputs": []
    },
    {
      "cell_type": "markdown",
      "source": [
        "Printa, em letras maiusculas, o que está na posição 02 da lista."
      ],
      "metadata": {
        "id": "0Bq7liY-dBBo"
      }
    },
    {
      "cell_type": "markdown",
      "source": [
        "### Exercício 08"
      ],
      "metadata": {
        "id": "8gjAVr4Ld6SJ"
      }
    },
    {
      "cell_type": "code",
      "source": [
        "uma_lista = [3, 5, \"Cibele\", [88, 99, \"Suely\"], [ ], 3.14, False]"
      ],
      "metadata": {
        "id": "fFXxKv1Jd86o"
      },
      "execution_count": null,
      "outputs": []
    },
    {
      "cell_type": "code",
      "source": [
        "print(uma_lista[2][0])"
      ],
      "metadata": {
        "id": "6WYNM55Fd_1I"
      },
      "execution_count": null,
      "outputs": []
    },
    {
      "cell_type": "markdown",
      "source": [
        "### Exercício 09"
      ],
      "metadata": {
        "id": "Q2L1pxTKeBwD"
      }
    },
    {
      "cell_type": "code",
      "source": [
        "uma_lista = [3, 5, \"Cibele\", [88, 99, \"Suely\"], [ ], 3.14, False]"
      ],
      "metadata": {
        "id": "l1kj5263eD0B"
      },
      "execution_count": null,
      "outputs": []
    },
    {
      "cell_type": "code",
      "source": [
        "print(3.14 in uma_lista)"
      ],
      "metadata": {
        "id": "1acsl0hVeFlL"
      },
      "execution_count": null,
      "outputs": []
    },
    {
      "cell_type": "markdown",
      "source": [
        "Verifica se o número 3.14 está contido na lista *uma_lista*"
      ],
      "metadata": {
        "id": "fMfkX9jkdVj_"
      }
    },
    {
      "cell_type": "markdown",
      "source": [
        "### Exercício 10"
      ],
      "metadata": {
        "id": "nIo13ExHeH-z"
      }
    },
    {
      "cell_type": "code",
      "source": [
        "uma_lista = [3, 5, \"Cibele\", [88, 99, \"Suely\"], [ ], 3.14, False]"
      ],
      "metadata": {
        "id": "9mJLL_IfeKRJ"
      },
      "execution_count": null,
      "outputs": []
    },
    {
      "cell_type": "code",
      "source": [
        "print(88 in uma_lista)"
      ],
      "metadata": {
        "id": "3o2en-hSeL3p"
      },
      "execution_count": null,
      "outputs": []
    },
    {
      "cell_type": "markdown",
      "source": [
        "Verifica se o número 88 está contido na lista uma_lista"
      ],
      "metadata": {
        "id": "Mb06rRhgdgeJ"
      }
    },
    {
      "cell_type": "markdown",
      "source": [
        "### Exercício 11"
      ],
      "metadata": {
        "id": "Eu6wc5DpeNQk"
      }
    },
    {
      "cell_type": "code",
      "source": [
        "uma_lista = [1, 3, 5]"
      ],
      "metadata": {
        "id": "qVW8gXWHePc_"
      },
      "execution_count": null,
      "outputs": []
    },
    {
      "cell_type": "code",
      "source": [
        "outra_lista = [2, 4, 6]"
      ],
      "metadata": {
        "id": "UITsNVizeSJz"
      },
      "execution_count": null,
      "outputs": []
    },
    {
      "cell_type": "code",
      "source": [
        "print(uma_lista + outra_lista)"
      ],
      "metadata": {
        "colab": {
          "base_uri": "https://localhost:8080/"
        },
        "id": "IBoo2gtdeTiT",
        "outputId": "4562a1a7-cfb1-4f9a-c1ac-96843dbe4971"
      },
      "execution_count": null,
      "outputs": [
        {
          "output_type": "stream",
          "name": "stdout",
          "text": [
            "[1, 3, 5, 2, 4, 6]\n"
          ]
        }
      ]
    },
    {
      "cell_type": "markdown",
      "source": [
        "Faz a concatenação das duas listas, ou seja, a junção dos elementos das duas."
      ],
      "metadata": {
        "id": "QwTJ0mQidjqP"
      }
    },
    {
      "cell_type": "markdown",
      "source": [
        "### Exercício 12"
      ],
      "metadata": {
        "id": "rICjMMTReVcZ"
      }
    },
    {
      "cell_type": "code",
      "source": [
        "uma_lista = [1, 3, 5]"
      ],
      "metadata": {
        "id": "YGMe69MOeUfC"
      },
      "execution_count": null,
      "outputs": []
    },
    {
      "cell_type": "code",
      "source": [
        "print(uma_lista * 3)"
      ],
      "metadata": {
        "colab": {
          "base_uri": "https://localhost:8080/"
        },
        "id": "CzUpFGA6eX8O",
        "outputId": "285b731c-0817-4154-9da8-967a0b6a360c"
      },
      "execution_count": null,
      "outputs": [
        {
          "output_type": "stream",
          "name": "stdout",
          "text": [
            "[1, 3, 5, 1, 3, 5, 1, 3, 5]\n"
          ]
        }
      ]
    },
    {
      "cell_type": "markdown",
      "source": [
        "Vai printar a lista com seus elementos repetidos três vezes."
      ],
      "metadata": {
        "id": "d6Wuumv9dvLa"
      }
    },
    {
      "cell_type": "markdown",
      "source": [
        "### Exercício 13"
      ],
      "metadata": {
        "id": "EleBTWsseb4w"
      }
    },
    {
      "cell_type": "code",
      "source": [
        "uma_lista = [3, 5, \"Cibele\", [88, 99, \"Suely\"], [ ], 3.14, False]"
      ],
      "metadata": {
        "id": "CwOVPbuRef9D"
      },
      "execution_count": null,
      "outputs": []
    },
    {
      "cell_type": "code",
      "source": [
        "print(uma_lista[4:])"
      ],
      "metadata": {
        "colab": {
          "base_uri": "https://localhost:8080/"
        },
        "id": "HqJE9fndejji",
        "outputId": "6f6bbd90-9858-4a49-d8c5-a83e3e15f23d"
      },
      "execution_count": null,
      "outputs": [
        {
          "output_type": "stream",
          "name": "stdout",
          "text": [
            "[[], 3.14, False]\n"
          ]
        }
      ]
    },
    {
      "cell_type": "markdown",
      "source": [
        "Printa do elemento 04 em diante da lista."
      ],
      "metadata": {
        "id": "4f4WdoVIeS4h"
      }
    },
    {
      "cell_type": "markdown",
      "source": [
        "### Exercício 14"
      ],
      "metadata": {
        "id": "j2xdh6X6ekNx"
      }
    },
    {
      "cell_type": "code",
      "source": [
        "uma_lista = ['a', 'b', 'c', 'd', 'e', 'f']"
      ],
      "metadata": {
        "id": "rEk0RtMCeozs"
      },
      "execution_count": null,
      "outputs": []
    },
    {
      "cell_type": "code",
      "source": [
        "uma_lista[1:3] = ['x', 'y']"
      ],
      "metadata": {
        "id": "rd9vo2PCep5P"
      },
      "execution_count": null,
      "outputs": []
    },
    {
      "cell_type": "markdown",
      "source": [
        "Substitui o elemento 01 da lista por **x** e o elemento dois da lista por y"
      ],
      "metadata": {
        "id": "vwo_uUb_ec1z"
      }
    },
    {
      "cell_type": "code",
      "source": [
        "print(uma_lista)"
      ],
      "metadata": {
        "colab": {
          "base_uri": "https://localhost:8080/"
        },
        "id": "c3Zki-fUer4O",
        "outputId": "35983d6e-fd40-4b9c-faea-ad517573ad6b"
      },
      "execution_count": null,
      "outputs": [
        {
          "output_type": "stream",
          "name": "stdout",
          "text": [
            "['a', 'x', 'y', 'd', 'e', 'f']\n"
          ]
        }
      ]
    },
    {
      "cell_type": "markdown",
      "source": [
        "### Exercício 15"
      ],
      "metadata": {
        "id": "bX0CoGs7etX_"
      }
    },
    {
      "cell_type": "code",
      "source": [
        "uma_lista = ['a', 'b', 'c', 'd', 'e', 'f']"
      ],
      "metadata": {
        "id": "sV2w3YOSexKs"
      },
      "execution_count": null,
      "outputs": []
    },
    {
      "cell_type": "code",
      "source": [
        "uma_lista[1:3] = []"
      ],
      "metadata": {
        "id": "NAcWqet3eyeV"
      },
      "execution_count": null,
      "outputs": []
    },
    {
      "cell_type": "markdown",
      "source": [
        "Apaga os elementos correspondente ao índice 1 e 2 da lista."
      ],
      "metadata": {
        "id": "mCdAWaZvelSH"
      }
    },
    {
      "cell_type": "code",
      "source": [
        "print(uma_lista)"
      ],
      "metadata": {
        "colab": {
          "base_uri": "https://localhost:8080/"
        },
        "id": "baeXEil5ezx9",
        "outputId": "f721ea3f-131b-49e3-acda-cac5cb53e3ac"
      },
      "execution_count": null,
      "outputs": [
        {
          "output_type": "stream",
          "name": "stdout",
          "text": [
            "['a', 'd', 'e', 'f']\n"
          ]
        }
      ]
    },
    {
      "cell_type": "markdown",
      "source": [
        "### Exercício 16"
      ],
      "metadata": {
        "id": "3YOhygnre0pt"
      }
    },
    {
      "cell_type": "code",
      "source": [
        "uma_lista = ['a', 'd', 'f']"
      ],
      "metadata": {
        "id": "mExk11vHe5-e"
      },
      "execution_count": null,
      "outputs": []
    },
    {
      "cell_type": "code",
      "source": [
        "uma_lista[1:1] = ['b', 'c']"
      ],
      "metadata": {
        "id": "Pifo6i8qe7UL"
      },
      "execution_count": null,
      "outputs": []
    },
    {
      "cell_type": "markdown",
      "source": [
        "Vai adicionar os elementos **'b'** e **'c'** na lista a partir do índice 01"
      ],
      "metadata": {
        "id": "-dR86GuxeuZ_"
      }
    },
    {
      "cell_type": "code",
      "source": [
        "print(uma_lista)"
      ],
      "metadata": {
        "colab": {
          "base_uri": "https://localhost:8080/"
        },
        "id": "Rr_Tzq82e8sD",
        "outputId": "f485ad96-9255-40e1-9c07-accbe980056d"
      },
      "execution_count": null,
      "outputs": [
        {
          "output_type": "stream",
          "name": "stdout",
          "text": [
            "['a', 'b', 'c', 'b', 'c', 'd', 'f']\n"
          ]
        }
      ]
    },
    {
      "cell_type": "code",
      "source": [
        "uma_lista[4:4] = ['e']"
      ],
      "metadata": {
        "id": "XZHD2Uz_e-Jy"
      },
      "execution_count": null,
      "outputs": []
    },
    {
      "cell_type": "markdown",
      "source": [
        "Adciona a letra 'e' na posição 04 da lista."
      ],
      "metadata": {
        "id": "zl2hnvS2e3_r"
      }
    },
    {
      "cell_type": "code",
      "source": [
        "print(uma_lista)"
      ],
      "metadata": {
        "colab": {
          "base_uri": "https://localhost:8080/"
        },
        "id": "_AH2pnMYe_Hz",
        "outputId": "465dbe93-9b32-4b28-ced7-bf2191263e68"
      },
      "execution_count": null,
      "outputs": [
        {
          "output_type": "stream",
          "name": "stdout",
          "text": [
            "['a', 'b', 'c', 'b', 'e', 'c', 'd', 'f']\n"
          ]
        }
      ]
    },
    {
      "cell_type": "markdown",
      "source": [
        "### Exercício 17"
      ],
      "metadata": {
        "id": "hMbd2TtMfAEW"
      }
    },
    {
      "cell_type": "code",
      "source": [
        "uma_lista = [4, 1, 8, 6, 3]"
      ],
      "metadata": {
        "id": "I7jbi5hPfLmp"
      },
      "execution_count": null,
      "outputs": []
    },
    {
      "cell_type": "code",
      "source": [
        "uma_lista[2] = True"
      ],
      "metadata": {
        "id": "xqPBgovrfNcd"
      },
      "execution_count": null,
      "outputs": []
    },
    {
      "cell_type": "markdown",
      "source": [
        "Substitui o elemento 02 da lista por *True*"
      ],
      "metadata": {
        "id": "XktI1wSJfGzk"
      }
    },
    {
      "cell_type": "code",
      "source": [
        "print(uma_lista)"
      ],
      "metadata": {
        "colab": {
          "base_uri": "https://localhost:8080/"
        },
        "id": "GWGWd3HFfOho",
        "outputId": "9b2b4aec-0377-4cb1-a9d5-54fa45023031"
      },
      "execution_count": null,
      "outputs": [
        {
          "output_type": "stream",
          "name": "stdout",
          "text": [
            "[4, 1, True, 6, 3]\n"
          ]
        }
      ]
    },
    {
      "cell_type": "markdown",
      "source": [
        "### Exercício 18"
      ],
      "metadata": {
        "id": "S6QPrflFfPH2"
      }
    },
    {
      "cell_type": "code",
      "source": [
        "a = ['um', 'dois', 'três']"
      ],
      "metadata": {
        "id": "6nC7DjO2fRaQ"
      },
      "execution_count": null,
      "outputs": []
    },
    {
      "cell_type": "code",
      "source": [
        "del a[1]"
      ],
      "metadata": {
        "id": "koMWdIulfU8x"
      },
      "execution_count": null,
      "outputs": []
    },
    {
      "cell_type": "markdown",
      "source": [
        "Apaga o o elemento da posição 01"
      ],
      "metadata": {
        "id": "TA9g7Ux_fUVV"
      }
    },
    {
      "cell_type": "code",
      "source": [
        "print(a)"
      ],
      "metadata": {
        "colab": {
          "base_uri": "https://localhost:8080/"
        },
        "id": "05RyBKOofWEE",
        "outputId": "6714fa56-d700-4a41-b5d1-3168eb604c6c"
      },
      "execution_count": null,
      "outputs": [
        {
          "output_type": "stream",
          "name": "stdout",
          "text": [
            "['um', 'três']\n"
          ]
        }
      ]
    },
    {
      "cell_type": "code",
      "source": [
        "lista = ['a', 'b', 'c', 'd', 'e', 'f']"
      ],
      "metadata": {
        "id": "eJxLJx_mfXX3"
      },
      "execution_count": null,
      "outputs": []
    },
    {
      "cell_type": "code",
      "source": [
        "del lista[1:5]"
      ],
      "metadata": {
        "id": "U-bShz6nfYlY"
      },
      "execution_count": null,
      "outputs": []
    },
    {
      "cell_type": "markdown",
      "source": [
        "Apaga os elementos correspondente aos índice do 01 ao 04 da lista."
      ],
      "metadata": {
        "id": "psA5a_z7fhig"
      }
    },
    {
      "cell_type": "code",
      "source": [
        "print(lista)"
      ],
      "metadata": {
        "colab": {
          "base_uri": "https://localhost:8080/"
        },
        "id": "kX99OthjfZnq",
        "outputId": "3a2f250f-eec5-48c7-cbed-a615f527e57d"
      },
      "execution_count": null,
      "outputs": [
        {
          "output_type": "stream",
          "name": "stdout",
          "text": [
            "['a', 'f']\n"
          ]
        }
      ]
    },
    {
      "cell_type": "markdown",
      "source": [
        "### Exercício 19"
      ],
      "metadata": {
        "id": "Z1ynCEecfigz"
      }
    },
    {
      "cell_type": "code",
      "source": [
        "lista_a = [4, 1, 8, 6, 3]"
      ],
      "metadata": {
        "id": "dQNfUeI-fkE-"
      },
      "execution_count": null,
      "outputs": []
    },
    {
      "cell_type": "code",
      "source": [
        "lista_b = lista_a"
      ],
      "metadata": {
        "id": "s4GBilTrf-Ul"
      },
      "execution_count": null,
      "outputs": []
    },
    {
      "cell_type": "code",
      "source": [
        "lista_b[3] = 22"
      ],
      "metadata": {
        "id": "o3Zyy1Txf_Vl"
      },
      "execution_count": null,
      "outputs": []
    },
    {
      "cell_type": "code",
      "source": [
        "print(lista_a)"
      ],
      "metadata": {
        "colab": {
          "base_uri": "https://localhost:8080/"
        },
        "id": "V02kNribgAkO",
        "outputId": "cc67955c-0f19-4525-85d0-9e803f5fadf9"
      },
      "execution_count": null,
      "outputs": [
        {
          "output_type": "stream",
          "name": "stdout",
          "text": [
            "[4, 1, 8, 22, 3]\n"
          ]
        }
      ]
    },
    {
      "cell_type": "markdown",
      "source": [
        "### Exercício 20"
      ],
      "metadata": {
        "id": "HideAOGhgBVG"
      }
    },
    {
      "cell_type": "code",
      "source": [
        "lista_original = [5, 6, 7, 8]"
      ],
      "metadata": {
        "id": "ilRyYX-0gY8L"
      },
      "execution_count": null,
      "outputs": []
    },
    {
      "cell_type": "code",
      "source": [
        "print(lista_original*3)"
      ],
      "metadata": {
        "colab": {
          "base_uri": "https://localhost:8080/"
        },
        "id": "zCbq_cixga-R",
        "outputId": "ce75dc54-6642-4424-bd37-313ebbfe642d"
      },
      "execution_count": null,
      "outputs": [
        {
          "output_type": "stream",
          "name": "stdout",
          "text": [
            "[5, 6, 7, 8, 5, 6, 7, 8, 5, 6, 7, 8]\n"
          ]
        }
      ]
    },
    {
      "cell_type": "markdown",
      "source": [
        "Printa a lista e repete os elementos três vezes."
      ],
      "metadata": {
        "id": "x1CE6VEGf52M"
      }
    },
    {
      "cell_type": "markdown",
      "source": [
        "### Exercício 21"
      ],
      "metadata": {
        "id": "aMIWZ5_Rgc0P"
      }
    },
    {
      "cell_type": "code",
      "source": [
        "lista_original = [5, 6, 7, 8]"
      ],
      "metadata": {
        "id": "8V313N5NgbZf"
      },
      "execution_count": null,
      "outputs": []
    },
    {
      "cell_type": "code",
      "source": [
        "print(lista_original*3)"
      ],
      "metadata": {
        "colab": {
          "base_uri": "https://localhost:8080/"
        },
        "id": "7jtK49xHgeZ7",
        "outputId": "94bf2579-0c9c-42cc-9f59-c8028bf558d7"
      },
      "execution_count": null,
      "outputs": [
        {
          "output_type": "stream",
          "name": "stdout",
          "text": [
            "[5, 6, 7, 8, 5, 6, 7, 8, 5, 6, 7, 8]\n"
          ]
        }
      ]
    },
    {
      "cell_type": "code",
      "source": [
        "lista_nova = [lista_original] * 3"
      ],
      "metadata": {
        "id": "2ZOCvKzWgiMT"
      },
      "execution_count": null,
      "outputs": []
    },
    {
      "cell_type": "code",
      "source": [
        "print(lista_nova)"
      ],
      "metadata": {
        "colab": {
          "base_uri": "https://localhost:8080/"
        },
        "id": "nMcgai3BgjW8",
        "outputId": "5d5b0a48-c1c8-4a60-d42a-f5a8e385e4fa"
      },
      "execution_count": null,
      "outputs": [
        {
          "output_type": "stream",
          "name": "stdout",
          "text": [
            "[[5, 6, 7, 8], [5, 6, 7, 8], [5, 6, 7, 8]]\n"
          ]
        }
      ]
    },
    {
      "cell_type": "markdown",
      "source": [
        "Printa a lista 3 vezes, cada vez sendo também uma lista."
      ],
      "metadata": {
        "id": "NA_EvlkQgMoV"
      }
    },
    {
      "cell_type": "markdown",
      "source": [
        "### Exercício 22"
      ],
      "metadata": {
        "id": "Yy_KFK1ogkWv"
      }
    },
    {
      "cell_type": "code",
      "source": [
        "lista_original = [5, 6, 7, 8]"
      ],
      "metadata": {
        "id": "a-l_t4Bqgj57"
      },
      "execution_count": null,
      "outputs": []
    },
    {
      "cell_type": "code",
      "source": [
        "lista_nova = [lista_original] * 3"
      ],
      "metadata": {
        "id": "w_GDhqsmgmg7"
      },
      "execution_count": null,
      "outputs": []
    },
    {
      "cell_type": "code",
      "source": [
        "print(lista_nova)"
      ],
      "metadata": {
        "colab": {
          "base_uri": "https://localhost:8080/"
        },
        "id": "x9Co9Jcigqo8",
        "outputId": "233fcab3-5582-435d-84a7-bc8933a21b20"
      },
      "execution_count": null,
      "outputs": [
        {
          "output_type": "stream",
          "name": "stdout",
          "text": [
            "[[5, 6, 7, 8], [5, 6, 7, 8], [5, 6, 7, 8]]\n"
          ]
        }
      ]
    },
    {
      "cell_type": "markdown",
      "source": [
        "Printa a nova lista três vezes, cada elemento é *lista_original*\n"
      ],
      "metadata": {
        "id": "PmHf07IoggBQ"
      }
    },
    {
      "cell_type": "code",
      "source": [
        "lista_original[1] = 22"
      ],
      "metadata": {
        "id": "wC9u09bmgrk5"
      },
      "execution_count": null,
      "outputs": []
    },
    {
      "cell_type": "code",
      "source": [
        "print(lista_nova)"
      ],
      "metadata": {
        "colab": {
          "base_uri": "https://localhost:8080/"
        },
        "id": "ZNFtBDv4gsds",
        "outputId": "e1bdffc3-6b3e-4366-c6cf-4a113377f614"
      },
      "execution_count": null,
      "outputs": [
        {
          "output_type": "stream",
          "name": "stdout",
          "text": [
            "[[5, 22, 7, 8], [5, 22, 7, 8], [5, 22, 7, 8]]\n"
          ]
        }
      ]
    },
    {
      "cell_type": "markdown",
      "source": [
        "### Exercício 23"
      ],
      "metadata": {
        "id": "KnPhcPJDgte8"
      }
    },
    {
      "cell_type": "code",
      "source": [
        "lista_a = [4, 1, 8, 6, 3]"
      ],
      "metadata": {
        "id": "xu5nLRUHgtDX"
      },
      "execution_count": null,
      "outputs": []
    },
    {
      "cell_type": "code",
      "source": [
        "lista_b = lista_a * 2"
      ],
      "metadata": {
        "id": "I881x5YugvLS"
      },
      "execution_count": null,
      "outputs": []
    },
    {
      "cell_type": "markdown",
      "source": [
        "A *lista_b* é duas vezes a variável *lista_a*"
      ],
      "metadata": {
        "id": "nW_ijxcqgkxR"
      }
    },
    {
      "cell_type": "code",
      "source": [
        "lista_b[3] = 35"
      ],
      "metadata": {
        "id": "6BkMM8N6gzKL"
      },
      "execution_count": null,
      "outputs": []
    },
    {
      "cell_type": "markdown",
      "source": [
        "Substitui o elemento 03 da lista pelo elemento 35"
      ],
      "metadata": {
        "id": "kTAms_oLgvp0"
      }
    },
    {
      "cell_type": "code",
      "source": [
        "print(lista_a)"
      ],
      "metadata": {
        "colab": {
          "base_uri": "https://localhost:8080/"
        },
        "id": "Ol81kolkg0Ib",
        "outputId": "5df0ebb6-d6ee-4c1c-ad1d-b8566cde23a1"
      },
      "execution_count": null,
      "outputs": [
        {
          "output_type": "stream",
          "name": "stdout",
          "text": [
            "[4, 1, 8, 6, 3]\n"
          ]
        }
      ]
    },
    {
      "cell_type": "markdown",
      "source": [
        "### Exercício 24"
      ],
      "metadata": {
        "id": "s4IpaaXFg06p"
      }
    },
    {
      "cell_type": "code",
      "source": [
        "lista_a = [4, 1, 8, 6, 3]"
      ],
      "metadata": {
        "id": "HflRh4KWg0fY"
      },
      "execution_count": null,
      "outputs": []
    },
    {
      "cell_type": "code",
      "source": [
        "lista_b = [lista_a] * 2"
      ],
      "metadata": {
        "id": "sJ3_edsog2Py"
      },
      "execution_count": null,
      "outputs": []
    },
    {
      "cell_type": "markdown",
      "source": [
        "A variável *lista_b* é uma lista da *lista_a* duas vezes."
      ],
      "metadata": {
        "id": "cb8pCfhQhCkm"
      }
    },
    {
      "cell_type": "code",
      "source": [
        "lista_a[3] = 35"
      ],
      "metadata": {
        "id": "texxBh81g5ob"
      },
      "execution_count": null,
      "outputs": []
    },
    {
      "cell_type": "markdown",
      "source": [
        "Substitui o elemento da posição 03 da lista pelo elemento 35."
      ],
      "metadata": {
        "id": "cOB8nmlwhcpL"
      }
    },
    {
      "cell_type": "code",
      "source": [
        "print(lista_b)"
      ],
      "metadata": {
        "colab": {
          "base_uri": "https://localhost:8080/"
        },
        "id": "RNjY82bqg6zL",
        "outputId": "39a666cc-a79c-4c82-83ac-af82c958818c"
      },
      "execution_count": null,
      "outputs": [
        {
          "output_type": "stream",
          "name": "stdout",
          "text": [
            "[[4, 1, 8, 35, 3], [4, 1, 8, 35, 3]]\n"
          ]
        }
      ]
    },
    {
      "cell_type": "markdown",
      "source": [
        "Como definimos a *lista_b* dependente da *lista_a*, então a *lista_b* também é alterada."
      ],
      "metadata": {
        "id": "sU5RQ2F6hkV1"
      }
    },
    {
      "cell_type": "markdown",
      "source": [
        "### Exercício 25"
      ],
      "metadata": {
        "id": "UrmVNtHjg7rE"
      }
    },
    {
      "cell_type": "code",
      "source": [
        "uma_lista = [4, 1, 8, 6, 3]"
      ],
      "metadata": {
        "id": "d9M6BDTzg7Sb"
      },
      "execution_count": null,
      "outputs": []
    },
    {
      "cell_type": "code",
      "source": [
        "uma_lista.append(True)"
      ],
      "metadata": {
        "id": "jYRugCiNg-Fa"
      },
      "execution_count": null,
      "outputs": []
    },
    {
      "cell_type": "markdown",
      "source": [
        "O método append, nesse caso, vai adicionar o elemento *True* ao final da lista."
      ],
      "metadata": {
        "id": "v38Ba4Czh5QN"
      }
    },
    {
      "cell_type": "code",
      "source": [
        "uma_lista.append(False)"
      ],
      "metadata": {
        "id": "NMcCF7ZBhBuA"
      },
      "execution_count": null,
      "outputs": []
    },
    {
      "cell_type": "markdown",
      "source": [
        "O método append, nesse caso, vai adicionar  o elemento *False* ao final da lista."
      ],
      "metadata": {
        "id": "2myoqTWbh_8L"
      }
    },
    {
      "cell_type": "code",
      "source": [
        "print(uma_lista)"
      ],
      "metadata": {
        "colab": {
          "base_uri": "https://localhost:8080/"
        },
        "id": "LN4_3k46hC5b",
        "outputId": "83e1010e-f09c-4f9c-ef8f-c1d3869f1c43"
      },
      "execution_count": null,
      "outputs": [
        {
          "output_type": "stream",
          "name": "stdout",
          "text": [
            "[4, 1, 8, 6, 3, True, False]\n"
          ]
        }
      ]
    },
    {
      "cell_type": "markdown",
      "source": [
        "### Exercício 26"
      ],
      "metadata": {
        "id": "_HluxsLfhD3j"
      }
    },
    {
      "cell_type": "code",
      "source": [
        "uma_lista = [4, 1, 8, 6, 3]"
      ],
      "metadata": {
        "id": "xUWSZC3LhDaa"
      },
      "execution_count": null,
      "outputs": []
    },
    {
      "cell_type": "code",
      "source": [
        "uma_lista.insert(2,True)"
      ],
      "metadata": {
        "id": "BcBIKdH0hFaO"
      },
      "execution_count": null,
      "outputs": []
    },
    {
      "cell_type": "markdown",
      "source": [
        "O método insert, nesse caso, vai adicionar o elemento *True* no índice 02 da lista."
      ],
      "metadata": {
        "id": "ACNJ7LaGiYEo"
      }
    },
    {
      "cell_type": "code",
      "source": [
        "uma_lista.insert(0,False)"
      ],
      "metadata": {
        "id": "aWJQg2CRhIoC"
      },
      "execution_count": null,
      "outputs": []
    },
    {
      "cell_type": "markdown",
      "source": [
        "O método insert, nesse caso, vai adicionar o elemento *True* no índice 0 da lista."
      ],
      "metadata": {
        "id": "sp9lecF9igCL"
      }
    },
    {
      "cell_type": "code",
      "source": [
        "print(uma_lista)"
      ],
      "metadata": {
        "colab": {
          "base_uri": "https://localhost:8080/"
        },
        "id": "-qs3caUFhJ4Y",
        "outputId": "70695edb-5818-4c42-f150-b393693548dd"
      },
      "execution_count": null,
      "outputs": [
        {
          "output_type": "stream",
          "name": "stdout",
          "text": [
            "[False, False, 4, 1, True, 8, 6, 3]\n"
          ]
        }
      ]
    },
    {
      "cell_type": "markdown",
      "source": [
        "### Exercício 27"
      ],
      "metadata": {
        "id": "ssfpQ4fvhK4Y"
      }
    },
    {
      "cell_type": "code",
      "source": [
        "uma_lista = [4, 1, 8, 6, 3]"
      ],
      "metadata": {
        "id": "5fnRhRgmhKjb"
      },
      "execution_count": null,
      "outputs": []
    },
    {
      "cell_type": "code",
      "source": [
        "temp = uma_lista.pop(2)"
      ],
      "metadata": {
        "id": "r-XYAKHYhMhA"
      },
      "execution_count": null,
      "outputs": []
    },
    {
      "cell_type": "markdown",
      "source": [
        "O método pop, nesse caso, retira o elemento da lista referente ao índice 02."
      ],
      "metadata": {
        "id": "9fFz17HFiqBd"
      }
    },
    {
      "cell_type": "code",
      "source": [
        "temp = uma_lista.pop()"
      ],
      "metadata": {
        "id": "4Y1LSO8chYo9"
      },
      "execution_count": null,
      "outputs": []
    },
    {
      "cell_type": "markdown",
      "source": [
        "O método pop, nesse caso, retira o último elemento da lista."
      ],
      "metadata": {
        "id": "7lAilOkKjI83"
      }
    },
    {
      "cell_type": "code",
      "source": [
        "print(uma_lista)"
      ],
      "metadata": {
        "colab": {
          "base_uri": "https://localhost:8080/"
        },
        "id": "bWCn-3duhaW9",
        "outputId": "b7a5beea-3542-44ef-c8e0-3ea22148522e"
      },
      "execution_count": null,
      "outputs": [
        {
          "output_type": "stream",
          "name": "stdout",
          "text": [
            "[4, 1]\n"
          ]
        }
      ]
    },
    {
      "cell_type": "markdown",
      "source": [
        "### Exerício 28"
      ],
      "metadata": {
        "id": "cmidX18FhPWG"
      }
    },
    {
      "cell_type": "code",
      "source": [
        "uma_lista = [4, 1, 8, 6, 3]"
      ],
      "metadata": {
        "id": "bADEcHrihRXD"
      },
      "execution_count": null,
      "outputs": []
    },
    {
      "cell_type": "code",
      "source": [
        "uma_lista = uma_lista.pop(0)"
      ],
      "metadata": {
        "id": "s2BmdLBNhTfL"
      },
      "execution_count": null,
      "outputs": []
    },
    {
      "cell_type": "markdown",
      "source": [
        "O método pop, nesse caso, vai retirar o elemento do índice 0. Posteriormente vai definir a variável *uma_lista* como esse elemento. No caso, a variável *uma_lista = 4*."
      ],
      "metadata": {
        "id": "QoZpk-ffjR3p"
      }
    },
    {
      "cell_type": "code",
      "source": [
        "print(uma_lista)"
      ],
      "metadata": {
        "colab": {
          "base_uri": "https://localhost:8080/"
        },
        "id": "-TuwH5XmhUWY",
        "outputId": "6e3a88a4-bd07-446d-9297-6c00e493ad8f"
      },
      "execution_count": null,
      "outputs": [
        {
          "output_type": "stream",
          "name": "stdout",
          "text": [
            "4\n"
          ]
        }
      ]
    }
  ]
}