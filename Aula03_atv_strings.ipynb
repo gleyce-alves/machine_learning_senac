{
  "nbformat": 4,
  "nbformat_minor": 0,
  "metadata": {
    "colab": {
      "provenance": [],
      "collapsed_sections": [
        "hhc-2fqKc0xq",
        "MikZiLjkdAcC",
        "Es7CWyBcdnvj",
        "WIoG1WgOeC7M",
        "1IxfrOQEeXmD",
        "hNSRTEAAevGD"
      ],
      "authorship_tag": "ABX9TyMjXqIGsIYlMvLTfi9ZLVG6",
      "include_colab_link": true
    },
    "kernelspec": {
      "name": "python3",
      "display_name": "Python 3"
    },
    "language_info": {
      "name": "python"
    }
  },
  "cells": [
    {
      "cell_type": "markdown",
      "metadata": {
        "id": "view-in-github",
        "colab_type": "text"
      },
      "source": [
        "<a href=\"https://colab.research.google.com/github/gleyce-alves/machine_learning_senac/blob/main/Aula03_atv_strings.ipynb\" target=\"_parent\"><img src=\"https://colab.research.google.com/assets/colab-badge.svg\" alt=\"Open In Colab\"/></a>"
      ]
    },
    {
      "cell_type": "markdown",
      "source": [
        "### Exercício 01"
      ],
      "metadata": {
        "id": "U2kPeZF_cEYT"
      }
    },
    {
      "cell_type": "code",
      "execution_count": null,
      "metadata": {
        "colab": {
          "base_uri": "https://localhost:8080/"
        },
        "id": "ZxUZFLG7bKmg",
        "outputId": "cf0c09f4-feb1-44ab-c409-e2a70596561c"
      },
      "outputs": [
        {
          "name": "stdout",
          "output_type": "stream",
          "text": [
            "Nome: gleyce\n"
          ]
        }
      ],
      "source": [
        "nome = str(input('Nome: '))"
      ]
    },
    {
      "cell_type": "code",
      "source": [
        "print(nome[-1:-(len(nome)+1):-1].upper())"
      ],
      "metadata": {
        "colab": {
          "base_uri": "https://localhost:8080/"
        },
        "id": "NQkyBjeFbhdk",
        "outputId": "275a95d5-2ef3-424b-ea52-fe934c70c9ba"
      },
      "execution_count": null,
      "outputs": [
        {
          "output_type": "stream",
          "name": "stdout",
          "text": [
            "ECYELG\n"
          ]
        }
      ]
    },
    {
      "cell_type": "markdown",
      "source": [
        "### Exercício 02"
      ],
      "metadata": {
        "id": "_jx8HEBycN9s"
      }
    },
    {
      "cell_type": "code",
      "source": [
        "nome = str(input('Nome: '))"
      ],
      "metadata": {
        "colab": {
          "base_uri": "https://localhost:8080/"
        },
        "id": "TdawujsRbz1i",
        "outputId": "5ff5aec3-2ee2-446c-f5c9-fa73a575d711"
      },
      "execution_count": null,
      "outputs": [
        {
          "name": "stdout",
          "output_type": "stream",
          "text": [
            "Nome: gleyce\n"
          ]
        }
      ]
    },
    {
      "cell_type": "code",
      "source": [
        "print(nome[::-1].upper())"
      ],
      "metadata": {
        "colab": {
          "base_uri": "https://localhost:8080/"
        },
        "id": "nRDPv9Rkb3nk",
        "outputId": "9c6d5fb6-0359-486d-dc21-89e4b0cec4d0"
      },
      "execution_count": null,
      "outputs": [
        {
          "output_type": "stream",
          "name": "stdout",
          "text": [
            "ECYELG\n"
          ]
        }
      ]
    },
    {
      "cell_type": "markdown",
      "source": [
        "### Exercício 03"
      ],
      "metadata": {
        "id": "uCAGx3cXcS1o"
      }
    },
    {
      "cell_type": "code",
      "source": [
        "print(list(range(1000)))"
      ],
      "metadata": {
        "colab": {
          "base_uri": "https://localhost:8080/"
        },
        "id": "lXThKhl1b7xU",
        "outputId": "6e2130cf-9b61-4967-8dec-e1f339d3f9bf"
      },
      "execution_count": null,
      "outputs": [
        {
          "output_type": "stream",
          "name": "stdout",
          "text": [
            "[0, 1, 2, 3, 4, 5, 6, 7, 8, 9, 10, 11, 12, 13, 14, 15, 16, 17, 18, 19, 20, 21, 22, 23, 24, 25, 26, 27, 28, 29, 30, 31, 32, 33, 34, 35, 36, 37, 38, 39, 40, 41, 42, 43, 44, 45, 46, 47, 48, 49, 50, 51, 52, 53, 54, 55, 56, 57, 58, 59, 60, 61, 62, 63, 64, 65, 66, 67, 68, 69, 70, 71, 72, 73, 74, 75, 76, 77, 78, 79, 80, 81, 82, 83, 84, 85, 86, 87, 88, 89, 90, 91, 92, 93, 94, 95, 96, 97, 98, 99, 100, 101, 102, 103, 104, 105, 106, 107, 108, 109, 110, 111, 112, 113, 114, 115, 116, 117, 118, 119, 120, 121, 122, 123, 124, 125, 126, 127, 128, 129, 130, 131, 132, 133, 134, 135, 136, 137, 138, 139, 140, 141, 142, 143, 144, 145, 146, 147, 148, 149, 150, 151, 152, 153, 154, 155, 156, 157, 158, 159, 160, 161, 162, 163, 164, 165, 166, 167, 168, 169, 170, 171, 172, 173, 174, 175, 176, 177, 178, 179, 180, 181, 182, 183, 184, 185, 186, 187, 188, 189, 190, 191, 192, 193, 194, 195, 196, 197, 198, 199, 200, 201, 202, 203, 204, 205, 206, 207, 208, 209, 210, 211, 212, 213, 214, 215, 216, 217, 218, 219, 220, 221, 222, 223, 224, 225, 226, 227, 228, 229, 230, 231, 232, 233, 234, 235, 236, 237, 238, 239, 240, 241, 242, 243, 244, 245, 246, 247, 248, 249, 250, 251, 252, 253, 254, 255, 256, 257, 258, 259, 260, 261, 262, 263, 264, 265, 266, 267, 268, 269, 270, 271, 272, 273, 274, 275, 276, 277, 278, 279, 280, 281, 282, 283, 284, 285, 286, 287, 288, 289, 290, 291, 292, 293, 294, 295, 296, 297, 298, 299, 300, 301, 302, 303, 304, 305, 306, 307, 308, 309, 310, 311, 312, 313, 314, 315, 316, 317, 318, 319, 320, 321, 322, 323, 324, 325, 326, 327, 328, 329, 330, 331, 332, 333, 334, 335, 336, 337, 338, 339, 340, 341, 342, 343, 344, 345, 346, 347, 348, 349, 350, 351, 352, 353, 354, 355, 356, 357, 358, 359, 360, 361, 362, 363, 364, 365, 366, 367, 368, 369, 370, 371, 372, 373, 374, 375, 376, 377, 378, 379, 380, 381, 382, 383, 384, 385, 386, 387, 388, 389, 390, 391, 392, 393, 394, 395, 396, 397, 398, 399, 400, 401, 402, 403, 404, 405, 406, 407, 408, 409, 410, 411, 412, 413, 414, 415, 416, 417, 418, 419, 420, 421, 422, 423, 424, 425, 426, 427, 428, 429, 430, 431, 432, 433, 434, 435, 436, 437, 438, 439, 440, 441, 442, 443, 444, 445, 446, 447, 448, 449, 450, 451, 452, 453, 454, 455, 456, 457, 458, 459, 460, 461, 462, 463, 464, 465, 466, 467, 468, 469, 470, 471, 472, 473, 474, 475, 476, 477, 478, 479, 480, 481, 482, 483, 484, 485, 486, 487, 488, 489, 490, 491, 492, 493, 494, 495, 496, 497, 498, 499, 500, 501, 502, 503, 504, 505, 506, 507, 508, 509, 510, 511, 512, 513, 514, 515, 516, 517, 518, 519, 520, 521, 522, 523, 524, 525, 526, 527, 528, 529, 530, 531, 532, 533, 534, 535, 536, 537, 538, 539, 540, 541, 542, 543, 544, 545, 546, 547, 548, 549, 550, 551, 552, 553, 554, 555, 556, 557, 558, 559, 560, 561, 562, 563, 564, 565, 566, 567, 568, 569, 570, 571, 572, 573, 574, 575, 576, 577, 578, 579, 580, 581, 582, 583, 584, 585, 586, 587, 588, 589, 590, 591, 592, 593, 594, 595, 596, 597, 598, 599, 600, 601, 602, 603, 604, 605, 606, 607, 608, 609, 610, 611, 612, 613, 614, 615, 616, 617, 618, 619, 620, 621, 622, 623, 624, 625, 626, 627, 628, 629, 630, 631, 632, 633, 634, 635, 636, 637, 638, 639, 640, 641, 642, 643, 644, 645, 646, 647, 648, 649, 650, 651, 652, 653, 654, 655, 656, 657, 658, 659, 660, 661, 662, 663, 664, 665, 666, 667, 668, 669, 670, 671, 672, 673, 674, 675, 676, 677, 678, 679, 680, 681, 682, 683, 684, 685, 686, 687, 688, 689, 690, 691, 692, 693, 694, 695, 696, 697, 698, 699, 700, 701, 702, 703, 704, 705, 706, 707, 708, 709, 710, 711, 712, 713, 714, 715, 716, 717, 718, 719, 720, 721, 722, 723, 724, 725, 726, 727, 728, 729, 730, 731, 732, 733, 734, 735, 736, 737, 738, 739, 740, 741, 742, 743, 744, 745, 746, 747, 748, 749, 750, 751, 752, 753, 754, 755, 756, 757, 758, 759, 760, 761, 762, 763, 764, 765, 766, 767, 768, 769, 770, 771, 772, 773, 774, 775, 776, 777, 778, 779, 780, 781, 782, 783, 784, 785, 786, 787, 788, 789, 790, 791, 792, 793, 794, 795, 796, 797, 798, 799, 800, 801, 802, 803, 804, 805, 806, 807, 808, 809, 810, 811, 812, 813, 814, 815, 816, 817, 818, 819, 820, 821, 822, 823, 824, 825, 826, 827, 828, 829, 830, 831, 832, 833, 834, 835, 836, 837, 838, 839, 840, 841, 842, 843, 844, 845, 846, 847, 848, 849, 850, 851, 852, 853, 854, 855, 856, 857, 858, 859, 860, 861, 862, 863, 864, 865, 866, 867, 868, 869, 870, 871, 872, 873, 874, 875, 876, 877, 878, 879, 880, 881, 882, 883, 884, 885, 886, 887, 888, 889, 890, 891, 892, 893, 894, 895, 896, 897, 898, 899, 900, 901, 902, 903, 904, 905, 906, 907, 908, 909, 910, 911, 912, 913, 914, 915, 916, 917, 918, 919, 920, 921, 922, 923, 924, 925, 926, 927, 928, 929, 930, 931, 932, 933, 934, 935, 936, 937, 938, 939, 940, 941, 942, 943, 944, 945, 946, 947, 948, 949, 950, 951, 952, 953, 954, 955, 956, 957, 958, 959, 960, 961, 962, 963, 964, 965, 966, 967, 968, 969, 970, 971, 972, 973, 974, 975, 976, 977, 978, 979, 980, 981, 982, 983, 984, 985, 986, 987, 988, 989, 990, 991, 992, 993, 994, 995, 996, 997, 998, 999]\n"
          ]
        }
      ]
    },
    {
      "cell_type": "code",
      "source": [
        "print(list(range(0, 300, 5)))"
      ],
      "metadata": {
        "colab": {
          "base_uri": "https://localhost:8080/"
        },
        "id": "DEQvEmOMb_Rk",
        "outputId": "ead43ac3-cb30-4074-d295-ea3a4644ac90"
      },
      "execution_count": null,
      "outputs": [
        {
          "output_type": "stream",
          "name": "stdout",
          "text": [
            "[0, 5, 10, 15, 20, 25, 30, 35, 40, 45, 50, 55, 60, 65, 70, 75, 80, 85, 90, 95, 100, 105, 110, 115, 120, 125, 130, 135, 140, 145, 150, 155, 160, 165, 170, 175, 180, 185, 190, 195, 200, 205, 210, 215, 220, 225, 230, 235, 240, 245, 250, 255, 260, 265, 270, 275, 280, 285, 290, 295]\n"
          ]
        }
      ]
    },
    {
      "cell_type": "markdown",
      "source": [
        "### Exercício 04"
      ],
      "metadata": {
        "id": "jMrjJecdcVjs"
      }
    },
    {
      "cell_type": "code",
      "source": [
        "dict1 = {'a': 1, 'b': 2}"
      ],
      "metadata": {
        "id": "pFhYDFevcCJl"
      },
      "execution_count": null,
      "outputs": []
    },
    {
      "cell_type": "code",
      "source": [
        "dict2 = {'c': 1, 'd': 2}"
      ],
      "metadata": {
        "id": "6lMWKKuTcjA9"
      },
      "execution_count": null,
      "outputs": []
    },
    {
      "cell_type": "markdown",
      "source": [
        "### Exercício 05"
      ],
      "metadata": {
        "id": "On4IVpVZcW35"
      }
    },
    {
      "cell_type": "code",
      "source": [
        "s = \"Hello World\""
      ],
      "metadata": {
        "id": "1SXFkbNgclBw"
      },
      "execution_count": null,
      "outputs": []
    },
    {
      "cell_type": "code",
      "source": [
        "print(s.upper())"
      ],
      "metadata": {
        "colab": {
          "base_uri": "https://localhost:8080/"
        },
        "id": "oD05Pdiect69",
        "outputId": "14732bb7-2c0a-44ab-9e6b-605bcfbb8a42"
      },
      "execution_count": null,
      "outputs": [
        {
          "output_type": "stream",
          "name": "stdout",
          "text": [
            "HELLO WORLD\n"
          ]
        }
      ]
    },
    {
      "cell_type": "code",
      "source": [
        "t = s.lower()"
      ],
      "metadata": {
        "id": "Q97xO36OcwGq"
      },
      "execution_count": null,
      "outputs": []
    },
    {
      "cell_type": "code",
      "source": [
        "print(t)"
      ],
      "metadata": {
        "id": "93qXZTyLcy2A"
      },
      "execution_count": null,
      "outputs": []
    },
    {
      "cell_type": "markdown",
      "source": [
        "### Exercpicio 06"
      ],
      "metadata": {
        "id": "hhc-2fqKc0xq"
      }
    },
    {
      "cell_type": "code",
      "source": [
        "s = \"python\""
      ],
      "metadata": {
        "id": "mLPpQ-r4c2nn"
      },
      "execution_count": null,
      "outputs": []
    },
    {
      "cell_type": "code",
      "source": [
        "e = \"!\"\n",
        "print(s+e*3)"
      ],
      "metadata": {
        "colab": {
          "base_uri": "https://localhost:8080/"
        },
        "id": "NsDFqd47c5za",
        "outputId": "d224bcd2-c959-4443-a47a-ec62ba61f515"
      },
      "execution_count": null,
      "outputs": [
        {
          "output_type": "stream",
          "name": "stdout",
          "text": [
            "python!!!\n"
          ]
        }
      ]
    },
    {
      "cell_type": "markdown",
      "source": [
        "### Exercício 07"
      ],
      "metadata": {
        "id": "MikZiLjkdAcC"
      }
    },
    {
      "cell_type": "code",
      "source": [
        "ss = \"    Hello, World    \""
      ],
      "metadata": {
        "id": "TnAe0HNwc7yT"
      },
      "execution_count": null,
      "outputs": []
    },
    {
      "cell_type": "code",
      "source": [
        "xx = ss.count(\"1\")"
      ],
      "metadata": {
        "id": "yMHdXA9wdM97"
      },
      "execution_count": null,
      "outputs": []
    },
    {
      "cell_type": "code",
      "source": [
        "print(xx)"
      ],
      "metadata": {
        "colab": {
          "base_uri": "https://localhost:8080/"
        },
        "id": "j7Dm2u-BdRlj",
        "outputId": "126539d6-33a4-46b2-9a89-b0e8066f7744"
      },
      "execution_count": null,
      "outputs": [
        {
          "output_type": "stream",
          "name": "stdout",
          "text": [
            "0\n"
          ]
        }
      ]
    },
    {
      "cell_type": "code",
      "source": [
        "print(\"***\"+ss.strip()+\"***\")"
      ],
      "metadata": {
        "colab": {
          "base_uri": "https://localhost:8080/"
        },
        "id": "SbmVTBLvdS1E",
        "outputId": "bb0804b3-d31e-4d08-c8d8-237d854b288e"
      },
      "execution_count": null,
      "outputs": [
        {
          "output_type": "stream",
          "name": "stdout",
          "text": [
            "***Hello, World***\n"
          ]
        }
      ]
    },
    {
      "cell_type": "code",
      "source": [
        "print(\"***\"+ss.lstrip()+\"***\")"
      ],
      "metadata": {
        "colab": {
          "base_uri": "https://localhost:8080/"
        },
        "id": "EQLfOzy5dbOF",
        "outputId": "3132cf24-77e1-4347-d308-45bd39987ff1"
      },
      "execution_count": null,
      "outputs": [
        {
          "output_type": "stream",
          "name": "stdout",
          "text": [
            "***Hello, World    ***\n"
          ]
        }
      ]
    },
    {
      "cell_type": "code",
      "source": [
        "print(\"***\"+ss.rstrip()+\"***\")"
      ],
      "metadata": {
        "colab": {
          "base_uri": "https://localhost:8080/"
        },
        "id": "CTWmJZpDddyz",
        "outputId": "3b6641a9-1443-4693-fce3-4b2383e40a4f"
      },
      "execution_count": null,
      "outputs": [
        {
          "output_type": "stream",
          "name": "stdout",
          "text": [
            "***    Hello, World***\n"
          ]
        }
      ]
    },
    {
      "cell_type": "code",
      "source": [
        "news = ss.replace(\"o\",\"***\")"
      ],
      "metadata": {
        "id": "Unu-Sd6EdgK5"
      },
      "execution_count": null,
      "outputs": []
    },
    {
      "cell_type": "code",
      "source": [
        "print(news)"
      ],
      "metadata": {
        "id": "HXiRuefDdlql"
      },
      "execution_count": null,
      "outputs": []
    },
    {
      "cell_type": "markdown",
      "source": [
        "### Exercício 08"
      ],
      "metadata": {
        "id": "Es7CWyBcdnvj"
      }
    },
    {
      "cell_type": "code",
      "source": [
        "food = \"banana bread\""
      ],
      "metadata": {
        "id": "IQNjglyodqHr"
      },
      "execution_count": null,
      "outputs": []
    },
    {
      "cell_type": "code",
      "source": [
        "print(food.capitalize())"
      ],
      "metadata": {
        "colab": {
          "base_uri": "https://localhost:8080/"
        },
        "id": "6rhAqme0dwKn",
        "outputId": "c7ad0145-942a-435c-c4e5-0345c7c9c345"
      },
      "execution_count": null,
      "outputs": [
        {
          "output_type": "stream",
          "name": "stdout",
          "text": [
            "Banana bread\n"
          ]
        }
      ]
    },
    {
      "cell_type": "code",
      "source": [
        "print(\"*\"+food.center(25)+\"*\")"
      ],
      "metadata": {
        "colab": {
          "base_uri": "https://localhost:8080/"
        },
        "id": "Rnsl_jvDdyRC",
        "outputId": "30c00e35-a4cc-495b-b16a-bc39ec49b01a"
      },
      "execution_count": null,
      "outputs": [
        {
          "output_type": "stream",
          "name": "stdout",
          "text": [
            "*       banana bread      *\n"
          ]
        }
      ]
    },
    {
      "cell_type": "code",
      "source": [
        "print(\"*\"+food.ljust(25)+\"*\")"
      ],
      "metadata": {
        "colab": {
          "base_uri": "https://localhost:8080/"
        },
        "id": "rjb3WE9Od5rY",
        "outputId": "e4bc6624-4301-4867-9e9f-6982b5eb83bb"
      },
      "execution_count": null,
      "outputs": [
        {
          "output_type": "stream",
          "name": "stdout",
          "text": [
            "*banana bread             *\n"
          ]
        }
      ]
    },
    {
      "cell_type": "code",
      "source": [
        "print(\"*\"+food.rjust(25)+\"*\")"
      ],
      "metadata": {
        "colab": {
          "base_uri": "https://localhost:8080/"
        },
        "id": "89oqI48Id-Br",
        "outputId": "50a60839-3898-40a3-b12b-c791f92e23b4"
      },
      "execution_count": null,
      "outputs": [
        {
          "output_type": "stream",
          "name": "stdout",
          "text": [
            "*             banana bread*\n"
          ]
        }
      ]
    },
    {
      "cell_type": "markdown",
      "source": [
        "### Exercício 09"
      ],
      "metadata": {
        "id": "WIoG1WgOeC7M"
      }
    },
    {
      "cell_type": "code",
      "source": [
        "print(food.find(\"e\"))"
      ],
      "metadata": {
        "colab": {
          "base_uri": "https://localhost:8080/"
        },
        "id": "iiC7Ksd4eBlO",
        "outputId": "fcd31540-ca05-4ff1-d121-deef6fdd2f18"
      },
      "execution_count": null,
      "outputs": [
        {
          "output_type": "stream",
          "name": "stdout",
          "text": [
            "9\n"
          ]
        }
      ]
    },
    {
      "cell_type": "code",
      "source": [
        "print(food.find(\"na\"))"
      ],
      "metadata": {
        "colab": {
          "base_uri": "https://localhost:8080/"
        },
        "id": "KnZvry2veEy4",
        "outputId": "d4db4fbe-caa0-4685-afb2-0c4d72902dd0"
      },
      "execution_count": null,
      "outputs": [
        {
          "output_type": "stream",
          "name": "stdout",
          "text": [
            "2\n"
          ]
        }
      ]
    },
    {
      "cell_type": "code",
      "source": [
        "print(food.find(\"b\"))"
      ],
      "metadata": {
        "colab": {
          "base_uri": "https://localhost:8080/"
        },
        "id": "myyWkLRIeNP7",
        "outputId": "1371df71-264d-4f90-e82c-1393d4a08b82"
      },
      "execution_count": null,
      "outputs": [
        {
          "output_type": "stream",
          "name": "stdout",
          "text": [
            "0\n"
          ]
        }
      ]
    },
    {
      "cell_type": "code",
      "source": [
        "print(food.rfind(\"e\"))"
      ],
      "metadata": {
        "colab": {
          "base_uri": "https://localhost:8080/"
        },
        "id": "LuNlbSgkeO_t",
        "outputId": "72f8de01-59cc-41ed-9c18-07817b9504d4"
      },
      "execution_count": null,
      "outputs": [
        {
          "output_type": "stream",
          "name": "stdout",
          "text": [
            "9\n"
          ]
        }
      ]
    },
    {
      "cell_type": "code",
      "source": [
        "print(food.rfind(\"na\"))"
      ],
      "metadata": {
        "colab": {
          "base_uri": "https://localhost:8080/"
        },
        "id": "QHy86QNteQsV",
        "outputId": "39952e5b-8cb6-46f7-cbf3-e26976f71ee8"
      },
      "execution_count": null,
      "outputs": [
        {
          "output_type": "stream",
          "name": "stdout",
          "text": [
            "4\n"
          ]
        }
      ]
    },
    {
      "cell_type": "code",
      "source": [
        "print(food.rfind(\"b\"))"
      ],
      "metadata": {
        "id": "tlOxO71AeS4c"
      },
      "execution_count": null,
      "outputs": []
    },
    {
      "cell_type": "markdown",
      "source": [
        "Resposta: "
      ],
      "metadata": {
        "id": "fBLN8Ze4ecEz"
      }
    },
    {
      "cell_type": "markdown",
      "source": [
        "### Exercício 10"
      ],
      "metadata": {
        "id": "1IxfrOQEeXmD"
      }
    },
    {
      "cell_type": "code",
      "source": [
        "s = \"python rocks\""
      ],
      "metadata": {
        "id": "A-RwMpYweaSy"
      },
      "execution_count": null,
      "outputs": []
    },
    {
      "cell_type": "code",
      "source": [
        "print(s[1]*s.index(\"n\"))"
      ],
      "metadata": {
        "colab": {
          "base_uri": "https://localhost:8080/"
        },
        "id": "a5nmBGWaehuf",
        "outputId": "113cd1a8-aead-4b07-9b1e-5517b704385c"
      },
      "execution_count": null,
      "outputs": [
        {
          "output_type": "stream",
          "name": "stdout",
          "text": [
            "yyyyy\n"
          ]
        }
      ]
    },
    {
      "cell_type": "markdown",
      "source": [
        "Resposta:"
      ],
      "metadata": {
        "id": "VUetm8dieoln"
      }
    },
    {
      "cell_type": "markdown",
      "source": [
        "### Exercício 11"
      ],
      "metadata": {
        "id": "hNSRTEAAevGD"
      }
    },
    {
      "cell_type": "code",
      "source": [
        "pets = \"Marlene, Cibele, Suely\""
      ],
      "metadata": {
        "id": "LllA59tbemAR"
      },
      "execution_count": null,
      "outputs": []
    },
    {
      "cell_type": "code",
      "source": [
        "print(pets[0:5])"
      ],
      "metadata": {
        "colab": {
          "base_uri": "https://localhost:8080/"
        },
        "id": "uQlpOI7Cepk8",
        "outputId": "2423108b-462e-4422-8d69-d42339ad429a"
      },
      "execution_count": null,
      "outputs": [
        {
          "output_type": "stream",
          "name": "stdout",
          "text": [
            "Marle\n"
          ]
        }
      ]
    },
    {
      "cell_type": "code",
      "source": [
        "print(pets[7:11])"
      ],
      "metadata": {
        "colab": {
          "base_uri": "https://localhost:8080/"
        },
        "id": "si0b-6QKe3-p",
        "outputId": "adf01329-8e88-4989-c17f-757f9df1d1c8"
      },
      "execution_count": null,
      "outputs": [
        {
          "output_type": "stream",
          "name": "stdout",
          "text": [
            ", Ci\n"
          ]
        }
      ]
    },
    {
      "cell_type": "code",
      "source": [
        "print(pets[17:21])"
      ],
      "metadata": {
        "id": "gfhDGy8Ye7lN"
      },
      "execution_count": null,
      "outputs": []
    },
    {
      "cell_type": "markdown",
      "source": [
        "### Exercício 12"
      ],
      "metadata": {
        "id": "BjblDrFoe--F"
      }
    },
    {
      "cell_type": "code",
      "source": [
        "print('a' in 'a')"
      ],
      "metadata": {
        "colab": {
          "base_uri": "https://localhost:8080/"
        },
        "id": "fAK1lsCSfBEP",
        "outputId": "eef9b88b-8631-436f-d326-a2a9d79a1662"
      },
      "execution_count": null,
      "outputs": [
        {
          "output_type": "stream",
          "name": "stdout",
          "text": [
            "True\n"
          ]
        }
      ]
    },
    {
      "cell_type": "code",
      "source": [
        "print('apple' in 'apple')"
      ],
      "metadata": {
        "colab": {
          "base_uri": "https://localhost:8080/"
        },
        "id": "4428P4WFfDYu",
        "outputId": "25adb187-0c93-4c98-fc72-74b96a100ef9"
      },
      "execution_count": null,
      "outputs": [
        {
          "output_type": "stream",
          "name": "stdout",
          "text": [
            "True\n"
          ]
        }
      ]
    },
    {
      "cell_type": "code",
      "source": [
        "print('' in 'a')"
      ],
      "metadata": {
        "id": "01JT_nMKfGci",
        "outputId": "0f52cf68-c31e-429d-a563-c3c0b7b2a666",
        "colab": {
          "base_uri": "https://localhost:8080/"
        }
      },
      "execution_count": null,
      "outputs": [
        {
          "output_type": "stream",
          "name": "stdout",
          "text": [
            "True\n"
          ]
        }
      ]
    },
    {
      "cell_type": "code",
      "source": [
        "print(' ' in 'apple')"
      ],
      "metadata": {
        "id": "D1UAdcJufI36",
        "outputId": "dc272c50-df54-4239-ec02-998ed0871448",
        "colab": {
          "base_uri": "https://localhost:8080/"
        }
      },
      "execution_count": null,
      "outputs": [
        {
          "output_type": "stream",
          "name": "stdout",
          "text": [
            "False\n"
          ]
        }
      ]
    },
    {
      "cell_type": "markdown",
      "source": [
        "### Exercício 13"
      ],
      "metadata": {
        "id": "JgdIxq2CbenF"
      }
    },
    {
      "cell_type": "code",
      "source": [
        "print('x' not in 'apple')"
      ],
      "metadata": {
        "id": "wdj3vDWWfLoS"
      },
      "execution_count": null,
      "outputs": []
    }
  ]
}