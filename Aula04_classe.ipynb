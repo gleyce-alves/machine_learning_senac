{
  "nbformat": 4,
  "nbformat_minor": 0,
  "metadata": {
    "colab": {
      "provenance": [],
      "authorship_tag": "ABX9TyOSR6dI7KjC08ARIs+0SLiO",
      "include_colab_link": true
    },
    "kernelspec": {
      "name": "python3",
      "display_name": "Python 3"
    },
    "language_info": {
      "name": "python"
    }
  },
  "cells": [
    {
      "cell_type": "markdown",
      "metadata": {
        "id": "view-in-github",
        "colab_type": "text"
      },
      "source": [
        "<a href=\"https://colab.research.google.com/github/gleyce-alves/machine_learning_senac/blob/main/Aula04_classe.ipynb\" target=\"_parent\"><img src=\"https://colab.research.google.com/assets/colab-badge.svg\" alt=\"Open In Colab\"/></a>"
      ]
    },
    {
      "cell_type": "code",
      "execution_count": 1,
      "metadata": {
        "id": "42P-VlgAneJj",
        "colab": {
          "base_uri": "https://localhost:8080/"
        },
        "outputId": "dbde6e42-e45e-46e3-9b22-1425f884c5f4"
      },
      "outputs": [
        {
          "output_type": "stream",
          "name": "stdout",
          "text": [
            "Estamos no elemento  1\n",
            "Estamos no elemento  2\n",
            "Estamos no elemento  3\n",
            "Estamos no elemento  4\n",
            "Estamos no elemento  5\n",
            "Estamos no elemento  6\n"
          ]
        }
      ],
      "source": [
        "for elemento in [1, 2, 3, 4, 5, 6]:\n",
        "  print('Estamos no elemento ', elemento)"
      ]
    },
    {
      "cell_type": "code",
      "source": [
        "for elemento in 'STRING':\n",
        "  print('Estamos no elemento ', elemento)"
      ],
      "metadata": {
        "colab": {
          "base_uri": "https://localhost:8080/"
        },
        "id": "LbORT9LCwSyX",
        "outputId": "588553ff-8b85-4e40-a1e2-8e58e6392a27"
      },
      "execution_count": 2,
      "outputs": [
        {
          "output_type": "stream",
          "name": "stdout",
          "text": [
            "Estamos no elemento  S\n",
            "Estamos no elemento  T\n",
            "Estamos no elemento  R\n",
            "Estamos no elemento  I\n",
            "Estamos no elemento  N\n",
            "Estamos no elemento  G\n"
          ]
        }
      ]
    },
    {
      "cell_type": "code",
      "source": [
        "for elemento in range(len('STRING')):\n",
        "  print('Estamos no elemento ', elemento)"
      ],
      "metadata": {
        "colab": {
          "base_uri": "https://localhost:8080/"
        },
        "id": "ppN0QotOwr7B",
        "outputId": "732e9721-f80d-44f3-c73c-15d370d54e6b"
      },
      "execution_count": 5,
      "outputs": [
        {
          "output_type": "stream",
          "name": "stdout",
          "text": [
            "Estamos no elemento  0\n",
            "Estamos no elemento  1\n",
            "Estamos no elemento  2\n",
            "Estamos no elemento  3\n",
            "Estamos no elemento  4\n",
            "Estamos no elemento  5\n"
          ]
        }
      ]
    },
    {
      "cell_type": "code",
      "source": [
        "elemento = 0\n",
        "while elemento <= len([1, 2, 3, 4, 5, 6]):\n",
        "  print('Estamos no elemento', elemento)\n",
        "  elemento += 1"
      ],
      "metadata": {
        "colab": {
          "base_uri": "https://localhost:8080/"
        },
        "id": "8jvP2uYOySWg",
        "outputId": "94c583f9-57a3-479c-dd16-5a84c4ab331c"
      },
      "execution_count": 8,
      "outputs": [
        {
          "output_type": "stream",
          "name": "stdout",
          "text": [
            "Estamos no elemento 0\n",
            "Estamos no elemento 1\n",
            "Estamos no elemento 2\n",
            "Estamos no elemento 3\n",
            "Estamos no elemento 4\n",
            "Estamos no elemento 5\n",
            "Estamos no elemento 6\n"
          ]
        }
      ]
    },
    {
      "cell_type": "code",
      "source": [
        "s = 'STRING'\n",
        "indice = 0\n",
        "\n",
        "while indice in range(len(s)):\n",
        "  print('Estamos no elemento, ', s[indice])\n",
        "  indice +=1"
      ],
      "metadata": {
        "colab": {
          "base_uri": "https://localhost:8080/"
        },
        "id": "9FKCyBWdy_IP",
        "outputId": "7f03ab84-333a-4c84-a450-15bc650f18ea"
      },
      "execution_count": 12,
      "outputs": [
        {
          "output_type": "stream",
          "name": "stdout",
          "text": [
            "Estamos no elemento,  S\n",
            "Estamos no elemento,  T\n",
            "Estamos no elemento,  R\n",
            "Estamos no elemento,  I\n",
            "Estamos no elemento,  N\n",
            "Estamos no elemento,  G\n"
          ]
        }
      ]
    },
    {
      "cell_type": "markdown",
      "source": [
        "### Função enumerate: retorna o índice e o respectivo elemento."
      ],
      "metadata": {
        "id": "EO9y9dQH2VjG"
      }
    },
    {
      "cell_type": "code",
      "source": [
        "palavra = 'tranquilo'\n",
        "\n",
        "for indice, letra in enumerate(palavra):\n",
        "  print(indice, letra)"
      ],
      "metadata": {
        "colab": {
          "base_uri": "https://localhost:8080/"
        },
        "id": "3hWqdwnp1jaX",
        "outputId": "c0feddc0-3946-4af7-a394-68ee4da6626e"
      },
      "execution_count": 14,
      "outputs": [
        {
          "output_type": "stream",
          "name": "stdout",
          "text": [
            "0 t\n",
            "1 r\n",
            "2 a\n",
            "3 n\n",
            "4 q\n",
            "5 u\n",
            "6 i\n",
            "7 l\n",
            "8 o\n"
          ]
        }
      ]
    },
    {
      "cell_type": "code",
      "source": [
        "lista = ['eat', 'sleep', 'repeat']\n",
        "palavra = 'geek'"
      ],
      "metadata": {
        "id": "sSEkL-RdzMWc"
      },
      "execution_count": 15,
      "outputs": []
    },
    {
      "cell_type": "code",
      "source": [
        "objeto1 = enumerate(lista)\n",
        "objeto2 = enumerate(palavra)"
      ],
      "metadata": {
        "id": "qWjneFkL2PND"
      },
      "execution_count": 16,
      "outputs": []
    },
    {
      "cell_type": "code",
      "source": [
        "print('Tipo: ', type(objeto1))\n",
        "print(list(enumerate(lista)))\n"
      ],
      "metadata": {
        "colab": {
          "base_uri": "https://localhost:8080/"
        },
        "id": "bDhvyYKO2lLX",
        "outputId": "4585a588-58bc-4b0f-e98e-2d763d55dda6"
      },
      "execution_count": 17,
      "outputs": [
        {
          "output_type": "stream",
          "name": "stdout",
          "text": [
            "Tipo:  <class 'enumerate'>\n",
            "[(0, 'eat'), (1, 'sleep'), (2, 'repeat')]\n"
          ]
        }
      ]
    },
    {
      "cell_type": "code",
      "source": [
        "print(list(enumerate(palavra, 2)))"
      ],
      "metadata": {
        "colab": {
          "base_uri": "https://localhost:8080/"
        },
        "id": "ZAqDXNqU24G5",
        "outputId": "ba1bd778-ef95-4852-f2c5-09de70217ad4"
      },
      "execution_count": 18,
      "outputs": [
        {
          "output_type": "stream",
          "name": "stdout",
          "text": [
            "[(2, 'g'), (3, 'e'), (4, 'e'), (5, 'k')]\n"
          ]
        }
      ]
    },
    {
      "cell_type": "markdown",
      "source": [
        "## Quiz"
      ],
      "metadata": {
        "id": "UP8SNAuB4WQ9"
      }
    },
    {
      "cell_type": "code",
      "source": [
        "s = 'via o python'\n",
        "\n",
        "for ch in s:\n",
        "  print('oi')"
      ],
      "metadata": {
        "colab": {
          "base_uri": "https://localhost:8080/"
        },
        "id": "qWc0K1uK3qsb",
        "outputId": "3acb2664-e956-4e73-db9c-b85b38d4ee43"
      },
      "execution_count": 22,
      "outputs": [
        {
          "output_type": "stream",
          "name": "stdout",
          "text": [
            "oi\n",
            "oi\n",
            "oi\n",
            "oi\n",
            "oi\n",
            "oi\n",
            "oi\n",
            "oi\n",
            "oi\n",
            "oi\n",
            "oi\n",
            "oi\n"
          ]
        }
      ]
    },
    {
      "cell_type": "code",
      "source": [
        "s = 'via o python'\n",
        "\n",
        "for ch in s[3:8]:\n",
        "  print('oi')"
      ],
      "metadata": {
        "colab": {
          "base_uri": "https://localhost:8080/"
        },
        "id": "Mtx_41nB4F2T",
        "outputId": "b536494f-2112-4ffc-9e74-a686a0224817"
      },
      "execution_count": 23,
      "outputs": [
        {
          "output_type": "stream",
          "name": "stdout",
          "text": [
            "oi\n",
            "oi\n",
            "oi\n",
            "oi\n",
            "oi\n"
          ]
        }
      ]
    },
    {
      "cell_type": "markdown",
      "source": [
        "##Desafio: Faça um programa que peça 10 números inteiros, calcule e mostre a quantidade de números pares e a quantidade de números ímpares."
      ],
      "metadata": {
        "id": "xkaWaerL6AHI"
      }
    },
    {
      "cell_type": "code",
      "source": [
        "contador = 0\n",
        "par = 0\n",
        "impar = 0\n",
        "\n",
        "for i in range(10):\n",
        "  numero = int(input(f'Digite o {contador+1}° número:'))\n",
        "  contador += 1\n",
        "  \n",
        "  if numero%2 ==0:\n",
        "    par+=1\n",
        "  else:\n",
        "    impar+=1\n",
        "\n",
        "print(f'A quantidade de números pares é de {par} e de ímpar é de {impar}.')"
      ],
      "metadata": {
        "colab": {
          "base_uri": "https://localhost:8080/"
        },
        "id": "r226jNv26CRy",
        "outputId": "97b3738a-2f16-4b76-b649-c168ceed9124"
      },
      "execution_count": 30,
      "outputs": [
        {
          "output_type": "stream",
          "name": "stdout",
          "text": [
            "Digite o 1° número:1\n",
            "Digite o 2° número:2\n",
            "Digite o 3° número:3\n",
            "Digite o 4° número:2\n",
            "Digite o 5° número:2\n",
            "Digite o 6° número:2\n",
            "Digite o 7° número:2\n",
            "Digite o 8° número:2\n",
            "Digite o 9° número:2\n",
            "Digite o 10° número:2\n",
            "A quantidade de números pares é de 8 e de ímpar é de 2.\n"
          ]
        }
      ]
    },
    {
      "cell_type": "markdown",
      "source": [
        "Crie uma estrutura que pergunte ao usuário qual o dia da semana. Se o dia for igual a Domingo ou igual a sábado, imprima na tela \"Hoje é dia de descanso\", caso contrário imprima na tela\n",
        "\"Você precisa trabalhar!\""
      ],
      "metadata": {
        "id": "1v8Vg8iO86sQ"
      }
    },
    {
      "cell_type": "code",
      "source": [
        "continuar = 'sim'\n",
        "\n",
        "while continuar in ['sim', 'Sim']:\n",
        "\n",
        "  dia = input('Qual o dia da semana? ')\n",
        "  continuar = input(\"Deseja continuar? \")\n",
        "  if dia in ['sabado', 'sábado', 'Sabado', 'Sábado', 'domingo', 'Domingo']:\n",
        "    print('Hoje é dia de descanso')\n",
        "\n",
        "  else:\n",
        "    print('Você precisa trabalhar!')\n",
        "    "
      ],
      "metadata": {
        "colab": {
          "base_uri": "https://localhost:8080/"
        },
        "id": "WJZOKdcM9C5x",
        "outputId": "c2936460-95c4-45ea-d089-6b03e90dd4f5"
      },
      "execution_count": 35,
      "outputs": [
        {
          "output_type": "stream",
          "name": "stdout",
          "text": [
            "Qual o dia da semana? domingo\n",
            "Deseja continuar? sim\n",
            "Hoje é dia de descanso\n",
            "Qual o dia da semana? terça\n",
            "Deseja continuar? nao\n",
            "Você precisa trabalhar!\n"
          ]
        }
      ]
    },
    {
      "cell_type": "markdown",
      "source": [
        "## Desafio: Faça um programa qe cria uma lista automaticamente usando a função range() e imprima na tela apenas os números pares. Sempre que encontrar um número ímpar multiplicar por ele mesmo e mostrar na tela."
      ],
      "metadata": {
        "id": "M9fQR22j-zY9"
      }
    },
    {
      "cell_type": "code",
      "source": [
        "lista = []\n",
        "\n",
        "for i in range(4):\n",
        "  if i == 0:\n",
        "    print('O número é zero.')\n",
        "  elif i % 2 == 0:\n",
        "    lista.append(i)\n",
        "  else:\n",
        "    lista.append(i*i)\n",
        "\n",
        "print(lista)"
      ],
      "metadata": {
        "colab": {
          "base_uri": "https://localhost:8080/"
        },
        "id": "N5TU6avA9g5M",
        "outputId": "73409aee-65af-4c04-b523-ce95da498036"
      },
      "execution_count": 41,
      "outputs": [
        {
          "output_type": "stream",
          "name": "stdout",
          "text": [
            "O número é zero.\n",
            "[1, 2, 9]\n"
          ]
        }
      ]
    },
    {
      "cell_type": "markdown",
      "source": [
        "## Desafio: Faça um programa para percorres uma palavra e imprimir na tela apenas as letras que são vogais."
      ],
      "metadata": {
        "id": "7EW3QmIBB0KZ"
      }
    },
    {
      "cell_type": "code",
      "source": [
        "palavra = 'vem hexa'\n",
        "\n",
        "for indice, letra in enumerate(palavra):\n",
        "  if letra in ['a', 'e', 'i', 'o', 'u']:\n",
        "    print(indice, letra)"
      ],
      "metadata": {
        "colab": {
          "base_uri": "https://localhost:8080/"
        },
        "id": "hU0arvQtB5w2",
        "outputId": "898ba48d-a60e-47ad-d670-caff6d8e4c08"
      },
      "execution_count": 42,
      "outputs": [
        {
          "output_type": "stream",
          "name": "stdout",
          "text": [
            "1 e\n",
            "5 e\n",
            "7 a\n"
          ]
        }
      ]
    },
    {
      "cell_type": "markdown",
      "source": [
        "## Prática:"
      ],
      "metadata": {
        "id": "Yyf2FhfBDVrl"
      }
    },
    {
      "cell_type": "code",
      "source": [
        "for nome in ['Reginaldo', 'Gisele Pintcher', 'Scoob', 'Marlene', 'Zezinho', 'Cibele', 'Suely']:\n",
        "  convite = ('Oi, ' +nome+'! Por favor, venha para o sábado pet em minha casa!')\n",
        "print(convite)"
      ],
      "metadata": {
        "colab": {
          "base_uri": "https://localhost:8080/"
        },
        "id": "y3t0Pbo0_W-h",
        "outputId": "2a736944-3c55-4bc2-abce-a332ab14f425"
      },
      "execution_count": 44,
      "outputs": [
        {
          "output_type": "stream",
          "name": "stdout",
          "text": [
            "Oi, Suely! Por favor, venha para o sábado pet em minha casa!\n"
          ]
        }
      ]
    },
    {
      "cell_type": "markdown",
      "source": [
        "## Desafio: Crie uma lista de frutas e procure se 'morango' está nessa lista."
      ],
      "metadata": {
        "id": "sxQ8z0rjEoDn"
      }
    },
    {
      "cell_type": "code",
      "source": [
        "lista = ['manga', 'uva', 'goiaba', 'morango']\n",
        "\n",
        "print('morango' in lista)"
      ],
      "metadata": {
        "colab": {
          "base_uri": "https://localhost:8080/"
        },
        "id": "c1s_R1ovET3Y",
        "outputId": "4a64dcdb-7276-41ce-ab59-ccbb296b2bf3"
      },
      "execution_count": 45,
      "outputs": [
        {
          "output_type": "stream",
          "name": "stdout",
          "text": [
            "True\n"
          ]
        }
      ]
    },
    {
      "cell_type": "markdown",
      "source": [
        "## Desafio: Cria um sequência de números pares entre 100 e 150 e imprima na tela."
      ],
      "metadata": {
        "id": "4-HPYj8dFjKB"
      }
    },
    {
      "cell_type": "code",
      "source": [
        "lista = []\n",
        "\n",
        "for i in range(100, 151):\n",
        "  if i % 2 ==0:\n",
        "    lista.append(i)\n",
        "\n",
        "print(lista)"
      ],
      "metadata": {
        "colab": {
          "base_uri": "https://localhost:8080/"
        },
        "id": "R5C-04XIFpDw",
        "outputId": "0c6b6bf8-6a44-4b36-f099-a4f94fc2ffb8"
      },
      "execution_count": 49,
      "outputs": [
        {
          "output_type": "stream",
          "name": "stdout",
          "text": [
            "[100, 102, 104, 106, 108, 110, 112, 114, 116, 118, 120, 122, 124, 126, 128, 130, 132, 134, 136, 138, 140, 142, 144, 146, 148, 150]\n"
          ]
        }
      ]
    },
    {
      "cell_type": "markdown",
      "source": [
        "## Dessafio: Crie uma variável chamada temperatura e atribua o valor 40. Supondo que a temperatura está diminuindo de grau em grau, enquanto temperatura for maior que 25, imprima as temperaturas na tela."
      ],
      "metadata": {
        "id": "Oox6kV-8G4Gt"
      }
    },
    {
      "cell_type": "code",
      "source": [
        "temperatura = 40\n",
        "\n",
        "while temperatura > 25:\n",
        "  print(temperatura)\n",
        "  temperatura -= 1\n",
        "  "
      ],
      "metadata": {
        "colab": {
          "base_uri": "https://localhost:8080/"
        },
        "id": "SHRxEWMxF3o0",
        "outputId": "069832cd-ba2a-4db3-ca8f-1d954a9568b6"
      },
      "execution_count": 52,
      "outputs": [
        {
          "output_type": "stream",
          "name": "stdout",
          "text": [
            "40\n",
            "39\n",
            "38\n",
            "37\n",
            "36\n",
            "35\n",
            "34\n",
            "33\n",
            "32\n",
            "31\n",
            "30\n",
            "29\n",
            "28\n",
            "27\n",
            "26\n"
          ]
        }
      ]
    }
  ]
}