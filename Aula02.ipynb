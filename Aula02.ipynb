{
  "cells": [
    {
      "cell_type": "markdown",
      "metadata": {
        "id": "view-in-github",
        "colab_type": "text"
      },
      "source": [
        "<a href=\"https://colab.research.google.com/github/gleyce-alves/machine_learning_senac/blob/main/Aula02.ipynb\" target=\"_parent\"><img src=\"https://colab.research.google.com/assets/colab-badge.svg\" alt=\"Open In Colab\"/></a>"
      ]
    },
    {
      "cell_type": "markdown",
      "source": [
        "# Aula 02: Condicionais"
      ],
      "metadata": {
        "id": "geJvsMtzm5Wn"
      }
    },
    {
      "cell_type": "code",
      "execution_count": null,
      "metadata": {
        "id": "j49zZde5StMu"
      },
      "outputs": [],
      "source": [
        "idade1 = 20\n"
      ]
    },
    {
      "cell_type": "code",
      "execution_count": null,
      "metadata": {
        "id": "3A7QGxQ9S6Ef"
      },
      "outputs": [],
      "source": [
        "idade2 = 35"
      ]
    },
    {
      "cell_type": "code",
      "execution_count": null,
      "metadata": {
        "colab": {
          "background_save": true
        },
        "id": "ThAAr4eKS7k3",
        "outputId": "75f713c9-fe49-49fe-d513-beeef4df85a9"
      },
      "outputs": [
        {
          "data": {
            "text/plain": [
              "55"
            ]
          },
          "execution_count": 33,
          "metadata": {},
          "output_type": "execute_result"
        }
      ],
      "source": [
        "idade1 + idade2"
      ]
    },
    {
      "cell_type": "code",
      "execution_count": null,
      "metadata": {
        "colab": {
          "background_save": true
        },
        "id": "ugCyHHn6S9nw"
      },
      "outputs": [],
      "source": [
        "somaIdades = idade1 + idade2"
      ]
    },
    {
      "cell_type": "code",
      "execution_count": null,
      "metadata": {
        "colab": {
          "background_save": true
        },
        "id": "UniSSo5cTHP4",
        "outputId": "9b4f8cea-0136-49d5-efff-162a47e4d7e7"
      },
      "outputs": [
        {
          "data": {
            "text/plain": [
              "-15"
            ]
          },
          "execution_count": 35,
          "metadata": {},
          "output_type": "execute_result"
        }
      ],
      "source": [
        "idade1 - idade2"
      ]
    },
    {
      "cell_type": "code",
      "execution_count": null,
      "metadata": {
        "colab": {
          "background_save": true
        },
        "id": "bIAaeBlFTJ80",
        "outputId": "1b1ecdf5-23d1-4cbc-e835-f64e68b16e82"
      },
      "outputs": [
        {
          "data": {
            "text/plain": [
              "700"
            ]
          },
          "execution_count": 36,
          "metadata": {},
          "output_type": "execute_result"
        }
      ],
      "source": [
        "idade1 * idade2"
      ]
    },
    {
      "cell_type": "code",
      "execution_count": null,
      "metadata": {
        "colab": {
          "background_save": true
        },
        "id": "oV1Wj5EoTMcb",
        "outputId": "61e0c139-c3ee-4cb7-bf48-29b444f632ed"
      },
      "outputs": [
        {
          "data": {
            "text/plain": [
              "0.5714285714285714"
            ]
          },
          "execution_count": 37,
          "metadata": {},
          "output_type": "execute_result"
        }
      ],
      "source": [
        "idade1 / idade2"
      ]
    },
    {
      "cell_type": "code",
      "execution_count": null,
      "metadata": {
        "colab": {
          "background_save": true
        },
        "id": "lH7-JCnJTQP9",
        "outputId": "79fc691c-a559-49f6-91f6-659b93a51de4"
      },
      "outputs": [
        {
          "data": {
            "text/plain": [
              "30"
            ]
          },
          "execution_count": 38,
          "metadata": {},
          "output_type": "execute_result"
        }
      ],
      "source": [
        "idade1 + 10"
      ]
    },
    {
      "cell_type": "code",
      "execution_count": null,
      "metadata": {
        "colab": {
          "background_save": true
        },
        "id": "-wsmni9HTSai",
        "outputId": "cc485042-7f54-4118-ae38-85a402ffdb16"
      },
      "outputs": [
        {
          "data": {
            "text/plain": [
              "5"
            ]
          },
          "execution_count": 39,
          "metadata": {},
          "output_type": "execute_result"
        }
      ],
      "source": [
        "idade1 - 15"
      ]
    },
    {
      "cell_type": "code",
      "execution_count": null,
      "metadata": {
        "colab": {
          "background_save": true
        },
        "id": "SxADlwM-TUQa",
        "outputId": "28c46627-0354-43ab-95f2-fd6423ec1fc3"
      },
      "outputs": [
        {
          "data": {
            "text/plain": [
              "80"
            ]
          },
          "execution_count": 40,
          "metadata": {},
          "output_type": "execute_result"
        }
      ],
      "source": [
        "idade1 * 4"
      ]
    },
    {
      "cell_type": "code",
      "execution_count": null,
      "metadata": {
        "colab": {
          "background_save": true
        },
        "id": "olFGev53TXdD",
        "outputId": "7d74a889-d2af-42b5-f4a4-a14868238ce2"
      },
      "outputs": [
        {
          "data": {
            "text/plain": [
              "4.0"
            ]
          },
          "execution_count": 41,
          "metadata": {},
          "output_type": "execute_result"
        }
      ],
      "source": [
        "idade1 / 5"
      ]
    },
    {
      "cell_type": "code",
      "execution_count": null,
      "metadata": {
        "colab": {
          "background_save": true
        },
        "id": "7Q6LQc7TTXmg",
        "outputId": "bfe1802c-e731-4ec3-aa0f-16bb949babdc"
      },
      "outputs": [
        {
          "data": {
            "text/plain": [
              "110"
            ]
          },
          "execution_count": 42,
          "metadata": {},
          "output_type": "execute_result"
        }
      ],
      "source": [
        "2 * (idade1 + idade2)"
      ]
    },
    {
      "cell_type": "code",
      "execution_count": null,
      "metadata": {
        "colab": {
          "background_save": true
        },
        "id": "XH0C9_m6TjKo",
        "outputId": "98d67125-a1e8-4c68-a5ea-c78c0554fd26"
      },
      "outputs": [
        {
          "data": {
            "text/plain": [
              "66.25"
            ]
          },
          "execution_count": 43,
          "metadata": {},
          "output_type": "execute_result"
        }
      ],
      "source": [
        "2 * idade1 + 3*idade2/4"
      ]
    },
    {
      "cell_type": "code",
      "execution_count": null,
      "metadata": {
        "colab": {
          "background_save": true
        },
        "id": "QlFLZqcFTo0r",
        "outputId": "851cec93-ef2b-4048-ef78-c222c1c32f59"
      },
      "outputs": [
        {
          "data": {
            "text/plain": [
              "36.25"
            ]
          },
          "execution_count": 44,
          "metadata": {},
          "output_type": "execute_result"
        }
      ],
      "source": [
        "(2*idade1 + 3*idade2)/4"
      ]
    },
    {
      "cell_type": "code",
      "execution_count": null,
      "metadata": {
        "colab": {
          "background_save": true
        },
        "id": "bsYXBJnuTvfz",
        "outputId": "78de9be0-4d91-459a-854d-53df0546ef38"
      },
      "outputs": [
        {
          "data": {
            "text/plain": [
              "400"
            ]
          },
          "execution_count": 45,
          "metadata": {},
          "output_type": "execute_result"
        }
      ],
      "source": [
        "idade1**2"
      ]
    },
    {
      "cell_type": "code",
      "execution_count": null,
      "metadata": {
        "colab": {
          "background_save": true
        },
        "id": "vndB6x6TT4RU",
        "outputId": "8a059a55-dea5-488d-aa58-6843931b9f72"
      },
      "outputs": [
        {
          "data": {
            "text/plain": [
              "1"
            ]
          },
          "execution_count": 46,
          "metadata": {},
          "output_type": "execute_result"
        }
      ],
      "source": [
        "idade2//idade1"
      ]
    },
    {
      "cell_type": "code",
      "execution_count": null,
      "metadata": {
        "colab": {
          "background_save": true
        },
        "id": "RcPFjDfCUbId",
        "outputId": "8f291cd9-fbd1-4e19-dc4b-90cd6d8c4a1e"
      },
      "outputs": [
        {
          "data": {
            "text/plain": [
              "1.75"
            ]
          },
          "execution_count": 47,
          "metadata": {},
          "output_type": "execute_result"
        }
      ],
      "source": [
        "idade2/idade1"
      ]
    },
    {
      "cell_type": "code",
      "execution_count": null,
      "metadata": {
        "colab": {
          "background_save": true
        },
        "id": "-Ulx7e31Upb1",
        "outputId": "df80f6d0-a177-4531-b82f-6ea71f697279"
      },
      "outputs": [
        {
          "data": {
            "text/plain": [
              "15"
            ]
          },
          "execution_count": 48,
          "metadata": {},
          "output_type": "execute_result"
        }
      ],
      "source": [
        "idade2 % idade1"
      ]
    },
    {
      "cell_type": "code",
      "execution_count": null,
      "metadata": {
        "colab": {
          "background_save": true
        },
        "id": "Pl5_NevQUx6K"
      },
      "outputs": [],
      "source": [
        "nome = 'Gleyce'\n",
        "sobrenome = 'Alves'\n"
      ]
    },
    {
      "cell_type": "code",
      "execution_count": null,
      "metadata": {
        "colab": {
          "background_save": true
        },
        "id": "1pS5jk-uU5Dz",
        "outputId": "288889c5-8a12-4177-e8ab-a9eca80eb701"
      },
      "outputs": [
        {
          "name": "stdout",
          "output_type": "stream",
          "text": [
            "GleyceAlves\n"
          ]
        }
      ],
      "source": [
        "print(nome + sobrenome)"
      ]
    },
    {
      "cell_type": "code",
      "execution_count": null,
      "metadata": {
        "colab": {
          "background_save": true
        },
        "id": "sV11TQw-VbK7",
        "outputId": "95695a91-07b0-4946-9984-d5724550e988"
      },
      "outputs": [
        {
          "name": "stdout",
          "output_type": "stream",
          "text": [
            "Olá, Gleyce você tem 35 anos.\n"
          ]
        }
      ],
      "source": [
        "print('Olá,', nome, 'você tem', idade1 + 15, 'anos.')"
      ]
    },
    {
      "cell_type": "code",
      "execution_count": null,
      "metadata": {
        "colab": {
          "background_save": true
        },
        "id": "VVHxRtGyWVDb",
        "outputId": "4225527d-4915-4ea9-e47d-2886554565ab"
      },
      "outputs": [
        {
          "name": "stdout",
          "output_type": "stream",
          "text": [
            "Olá, Gleyce \n",
            "você tem 35 anos.\n"
          ]
        }
      ],
      "source": [
        "print('Olá,', nome, '\\n' 'você tem', idade1 + 15, 'anos.')"
      ]
    },
    {
      "cell_type": "code",
      "execution_count": null,
      "metadata": {
        "colab": {
          "background_save": true
        },
        "id": "2gpa2iZMXB82",
        "outputId": "ace3b409-a211-49d5-c596-abb1b16cc397"
      },
      "outputs": [
        {
          "data": {
            "application/vnd.google.colaboratory.intrinsic+json": {
              "type": "string"
            },
            "text/plain": [
              "'Gleyce Alves'"
            ]
          },
          "execution_count": 53,
          "metadata": {},
          "output_type": "execute_result"
        }
      ],
      "source": [
        "input('Digite o seu nome: ')"
      ]
    },
    {
      "cell_type": "code",
      "execution_count": null,
      "metadata": {
        "id": "uxs5o4-2Xl3f"
      },
      "outputs": [],
      "source": [
        "nome = input('Digite o seu nome: ')"
      ]
    },
    {
      "cell_type": "markdown",
      "metadata": {
        "id": "1U2r-EQqYAUc"
      },
      "source": [
        "## Desafio 1: Conversão de tipos\n"
      ]
    },
    {
      "cell_type": "code",
      "execution_count": null,
      "metadata": {
        "id": "POEGKzHpYMi8"
      },
      "outputs": [],
      "source": [
        "idade = int(input('Digite a sua idade: '))"
      ]
    },
    {
      "cell_type": "markdown",
      "source": [
        "continuando o assunto..."
      ],
      "metadata": {
        "id": "Fxim39N9iIN4"
      }
    },
    {
      "cell_type": "code",
      "execution_count": 59,
      "metadata": {
        "colab": {
          "base_uri": "https://localhost:8080/"
        },
        "id": "70phtz_MYNro",
        "outputId": "883ff8f9-736d-4255-e8d0-f6b92ba26b56"
      },
      "outputs": [
        {
          "name": "stdout",
          "output_type": "stream",
          "text": [
            "Digite um número inteiro: 6\n",
            "Digite um número inteiro: 13\n"
          ]
        }
      ],
      "source": [
        "valor1 = input('Digite um número inteiro: ')\n",
        "valor2 = input('Digite um número inteiro: ')"
      ]
    },
    {
      "cell_type": "code",
      "source": [
        "print(valor1 == valor2)\n",
        "print(valor1 > valor2)\n",
        "print(valor1 >= valor2)\n",
        "print(valor1 <= valor2)"
      ],
      "metadata": {
        "colab": {
          "base_uri": "https://localhost:8080/"
        },
        "id": "QfYoXxyGdeuZ",
        "outputId": "d7d20870-27a6-4769-f473-db4e035c2fb8"
      },
      "execution_count": 61,
      "outputs": [
        {
          "output_type": "stream",
          "name": "stdout",
          "text": [
            "False\n",
            "True\n",
            "True\n",
            "False\n"
          ]
        }
      ]
    },
    {
      "cell_type": "code",
      "source": [
        "numero = 10\n",
        "print(numero > 0 and numero < 10)"
      ],
      "metadata": {
        "colab": {
          "base_uri": "https://localhost:8080/"
        },
        "id": "IYvwrlgadrDf",
        "outputId": "e2d8ef1a-2c78-4676-86ae-85ea5626adc9"
      },
      "execution_count": 62,
      "outputs": [
        {
          "output_type": "stream",
          "name": "stdout",
          "text": [
            "False\n"
          ]
        }
      ]
    },
    {
      "cell_type": "code",
      "source": [
        "numero = 10\n",
        "print(numero > 0 or numero <10)"
      ],
      "metadata": {
        "colab": {
          "base_uri": "https://localhost:8080/"
        },
        "id": "UQwOqNDUdwuu",
        "outputId": "8d06c895-50fd-445d-9c9d-9a3ec2ca2f42"
      },
      "execution_count": 65,
      "outputs": [
        {
          "output_type": "stream",
          "name": "stdout",
          "text": [
            "True\n"
          ]
        }
      ]
    },
    {
      "cell_type": "markdown",
      "source": [
        "## Desafio 2: Condicional\n",
        "Usando somente o que aprendemos até aqui, seu programa deve solicitar um número inteiro ao usuário e avaliar se esse número é par ou ímpar."
      ],
      "metadata": {
        "id": "SP4yllXUeD2X"
      }
    },
    {
      "cell_type": "code",
      "source": [
        "numero = int(input('Digite um número: '))\n",
        "if numero == 0:\n",
        "   print('O número é zero')\n",
        "elif numero % 2 == 0: \n",
        "  print('O número é par.')\n",
        "else:\n",
        "  print('O número é ímpar.')"
      ],
      "metadata": {
        "colab": {
          "base_uri": "https://localhost:8080/"
        },
        "id": "rs5ouebzeGLm",
        "outputId": "adfa539e-bc34-489d-c8d8-641c7194e818"
      },
      "execution_count": 71,
      "outputs": [
        {
          "output_type": "stream",
          "name": "stdout",
          "text": [
            "Digite um número: 10\n",
            "O número é par.\n"
          ]
        }
      ]
    },
    {
      "cell_type": "markdown",
      "source": [
        "continuando o assunto..."
      ],
      "metadata": {
        "id": "QmsiMkaBh_uH"
      }
    },
    {
      "cell_type": "code",
      "source": [
        "cupom = input('Digite o cupom: ')"
      ],
      "metadata": {
        "colab": {
          "base_uri": "https://localhost:8080/"
        },
        "id": "cV_QfWx1huaQ",
        "outputId": "528ad810-ff11-4bc6-cd32-c8cf937c7983"
      },
      "execution_count": 76,
      "outputs": [
        {
          "name": "stdout",
          "output_type": "stream",
          "text": [
            "Digite o cupom: aula1\n"
          ]
        }
      ]
    },
    {
      "cell_type": "code",
      "source": [
        "if (cupom == 'aula1' or cupom == 'aula2'):\n",
        "  print('Você ganhou 10 % de desconto')"
      ],
      "metadata": {
        "colab": {
          "base_uri": "https://localhost:8080/"
        },
        "id": "Y1rvtaNoegum",
        "outputId": "430e4f90-7973-4278-a089-027ec392bb24"
      },
      "execution_count": 77,
      "outputs": [
        {
          "output_type": "stream",
          "name": "stdout",
          "text": [
            "Você ganhou 10 % de desconto\n"
          ]
        }
      ]
    },
    {
      "cell_type": "code",
      "source": [
        "if (cupom == 'aula1' or cupom == 'aula2'):\n",
        "  print('Você ganhou 10 % de desconto')\n",
        "else:\n",
        "  print('cupom inválido')"
      ],
      "metadata": {
        "colab": {
          "base_uri": "https://localhost:8080/"
        },
        "id": "-fVBjD3BiLk-",
        "outputId": "c6079ba4-7033-4deb-b401-1ff28149a7ff"
      },
      "execution_count": 78,
      "outputs": [
        {
          "output_type": "stream",
          "name": "stdout",
          "text": [
            "Você ganhou 10 % de desconto\n"
          ]
        }
      ]
    },
    {
      "cell_type": "markdown",
      "source": [
        "## Desafio 3: Condicional\n",
        "Se o cupom for válido (aula1 ou aula2): aplicar 15% de desconto\n",
        "\n",
        "Senão: aplicar 5% de desconto"
      ],
      "metadata": {
        "id": "QrGqtSkWilFv"
      }
    },
    {
      "cell_type": "code",
      "source": [
        "cupom = input('Digite o cupom: ')\n",
        "if (cupom == 'aula1' or cupom == 'aula2'):\n",
        "  print('Você ganhou 15 % de desconto')\n",
        "else:\n",
        "  print('Você ganhou 5 % de desconto')"
      ],
      "metadata": {
        "colab": {
          "base_uri": "https://localhost:8080/"
        },
        "id": "upz5w3pbjBke",
        "outputId": "049dc166-e65f-4e37-aeb0-d985aac29171"
      },
      "execution_count": 79,
      "outputs": [
        {
          "output_type": "stream",
          "name": "stdout",
          "text": [
            "Digite o cupom: aula2\n",
            "Você ganhou 15 % de desconto\n"
          ]
        }
      ]
    },
    {
      "cell_type": "markdown",
      "source": [
        "# Condicional Composta"
      ],
      "metadata": {
        "id": "_X1pBoyzmrZG"
      }
    },
    {
      "cell_type": "code",
      "source": [
        "if():\n",
        "  print()\n",
        "elif():\n",
        "  print()\n",
        "else:\n",
        "  print()"
      ],
      "metadata": {
        "id": "SO2zPyBwmu79"
      },
      "execution_count": null,
      "outputs": []
    },
    {
      "cell_type": "markdown",
      "source": [
        "## Desafio 4: Condicional composta\n",
        "\n",
        "Agora temos dois descontos válidos. Se o cupom for  aula1: aplicar 15% de desconto. Se o cupom for aula2: aplicar 10% de desconto. Senão, aplicar 5% de desconto."
      ],
      "metadata": {
        "id": "lPH4hoXJnLTP"
      }
    },
    {
      "cell_type": "code",
      "source": [
        "cupom = input('Digite o seu cupom: ')\n",
        "\n",
        "if(cupom == 'aula1'):\n",
        "  print('Você ganhou 15% de desconto.')\n",
        "elif(cupom == 'aula2'):\n",
        "  print('Você ganhou 10% de desconto.')\n",
        "else:\n",
        "  print('Você ganhou 5% de desconto.')"
      ],
      "metadata": {
        "colab": {
          "base_uri": "https://localhost:8080/"
        },
        "id": "8cwoL8H-nI8m",
        "outputId": "f9f8d7f9-8248-4ad2-ac8f-c602e2805e0f"
      },
      "execution_count": 83,
      "outputs": [
        {
          "output_type": "stream",
          "name": "stdout",
          "text": [
            "Digite o seu cupom: aula 1\n",
            "Você ganhou 5% de desconto.\n"
          ]
        }
      ]
    },
    {
      "cell_type": "markdown",
      "source": [
        "## Indentação"
      ],
      "metadata": {
        "id": "Gz5SAoRPpHE-"
      }
    },
    {
      "cell_type": "code",
      "source": [
        "if (1 == 1):\n",
        "  print('Mensagem no segundo nível')\n",
        "  if((1 == 2) == False):\n",
        "    print('Mensagem no terceiro nível')"
      ],
      "metadata": {
        "colab": {
          "base_uri": "https://localhost:8080/"
        },
        "id": "0ZTPXVJgnh7b",
        "outputId": "e1065b59-6323-49ce-c6d0-c96651581731"
      },
      "execution_count": 84,
      "outputs": [
        {
          "output_type": "stream",
          "name": "stdout",
          "text": [
            "Mensagem no segundo nível\n",
            "Mensagem no terceiro nível\n"
          ]
        }
      ]
    },
    {
      "cell_type": "markdown",
      "source": [
        "## Desafio 5: Prática acumulada\n",
        "\n",
        "Escrever em python o desenho anterior, utilizando conectivo lógico (and) e  estrutura condicional (if - else).\n",
        "Sol e dinheiro, então praia.\n",
        "Senão, netflix."
      ],
      "metadata": {
        "id": "y69EzmsNrZag"
      }
    },
    {
      "cell_type": "code",
      "source": [
        "esta_sol = input('Está ensolarado? ').capitalize()\n",
        "tem_dinheiro = input('Tem dinheiro? ').capitalize()\n",
        "\n",
        "if (esta_sol == 'Sim') and (tem_dinheiro == 'Sim'):\n",
        "  print('Praia.')\n",
        "else:\n",
        "  print('Netflix.')"
      ],
      "metadata": {
        "colab": {
          "base_uri": "https://localhost:8080/"
        },
        "id": "WlZDG1WypI1F",
        "outputId": "62c42cb6-82a6-43cd-cd0e-536a10d8ee94"
      },
      "execution_count": 91,
      "outputs": [
        {
          "output_type": "stream",
          "name": "stdout",
          "text": [
            "Está ensolarado? sim\n",
            "Tem dinheiro? nao\n",
            "Netflix.\n"
          ]
        }
      ]
    },
    {
      "cell_type": "markdown",
      "source": [
        "## Desafio 6: Prática acumulada\n",
        "\n",
        "Escrever em python o desenho anterior, utilizando conectivo lógico (or) e  ectrutura condicional (if - else).\n",
        "Sol e dinheiro, então praia.\n",
        "Senão, netflix."
      ],
      "metadata": {
        "id": "uPOPOLjMy7R1"
      }
    },
    {
      "cell_type": "code",
      "source": [
        "esta_sol = input('Está ensolarado? ').capitalize()\n",
        "tem_dinheiro = input('Tem dinheiro? ').capitalize()\n",
        "\n",
        "if (esta_sol == 'Sim') or (tem_dinheiro == 'Sim'):\n",
        "  print('Praia.')\n",
        "else:\n",
        "  print('Netflix.')"
      ],
      "metadata": {
        "colab": {
          "base_uri": "https://localhost:8080/"
        },
        "id": "gG1KZxoCzM48",
        "outputId": "c9af56f7-f14e-4187-8f18-c63e67c086c1"
      },
      "execution_count": 92,
      "outputs": [
        {
          "output_type": "stream",
          "name": "stdout",
          "text": [
            "Está ensolarado? sim\n",
            "Tem dinheiro? nao\n",
            "Praia.\n"
          ]
        }
      ]
    },
    {
      "cell_type": "markdown",
      "source": [
        "## Desafio 7: Prática acumulada\n",
        "\n",
        "Escrever em python o desenho anterior, utilizando o if dentro do if\n",
        "se sol, se dinheiro, então praia.\n",
        "Senão, netflix."
      ],
      "metadata": {
        "id": "yiouXVSlzu8V"
      }
    },
    {
      "cell_type": "code",
      "source": [
        "esta_sol = input('Está ensolarado? ').capitalize()\n",
        "tem_dinheiro = input('Tem dinheiro? ').capitalize()\n",
        "\n",
        "if (esta_sol == 'Sim'):\n",
        "  if (tem_dinheiro == 'Sim'):\n",
        "    print('Praia.')\n",
        "  else:\n",
        "    print('Ligue o ventilador.')\n",
        "else:\n",
        "  print('Netflix.')"
      ],
      "metadata": {
        "colab": {
          "base_uri": "https://localhost:8080/"
        },
        "id": "ZQysNhEDzPak",
        "outputId": "2597620a-d4fa-4c35-d344-5ff1c2aebbd3"
      },
      "execution_count": 99,
      "outputs": [
        {
          "output_type": "stream",
          "name": "stdout",
          "text": [
            "Está ensolarado? sim\n",
            "Tem dinheiro? nao\n",
            "Ligue o ventilador.\n"
          ]
        }
      ]
    },
    {
      "cell_type": "markdown",
      "source": [
        "## Desafio 8: Prática\n",
        "\n",
        "Num determinado Estado, para transferências de veículos, o DETRAN cobra uma taxa de 1% para carros fabricados antes de 1990 e uma taxa de 1.5% para os fabricados em 1990 em diante, a taxa está incidindo sobre o valor do carro. Faça um algoritmo que lê o ano e o preço do carro e a seguir calcula e imprime o imposto a ser pago."
      ],
      "metadata": {
        "id": "beEvZsbX6MUE"
      }
    },
    {
      "cell_type": "code",
      "source": [
        "preco = float(input('Digite o valor do carro: R$'))\n",
        "ano = int(input('Digite o ano que o carro foi fabricado: R$'))\n",
        "\n",
        "if ano >= 1990:\n",
        "  imposto = preco * 0.01\n",
        "  print(f'O valor do seu carro é de R${preco} e o imposto é de {imposto:.2f}')\n",
        "\n",
        "else:\n",
        "  imposto = preco * 0.015\n",
        "  print(f'O valor do seu carro é de R${preco} e o imposto é de R${imposto:.2f}')"
      ],
      "metadata": {
        "colab": {
          "base_uri": "https://localhost:8080/"
        },
        "id": "CCtoEgqY6hv1",
        "outputId": "1ee95ab5-1fac-4630-e222-e939d8c06079"
      },
      "execution_count": 107,
      "outputs": [
        {
          "output_type": "stream",
          "name": "stdout",
          "text": [
            "Digite o valor do carro: R$300009\n",
            "Digite o ano que o carro foi fabricado: R$1980\n",
            "O valor do seu carro é de R$300009.0 e o imposto é de R$4500.14\n"
          ]
        }
      ]
    },
    {
      "cell_type": "markdown",
      "source": [
        "## Desafio 9: Prática\n",
        "\n",
        "Uma empresa concederá um aumento de salário aos seus funcionários, variável de acordo com o cargo, conforme a tabela abaixo. Faça um algoritmo que leia o salário e o cargo de um funcionário e calcule o novo salário. Se o cargo do funcionário não estiver na tabela, ele dever, então, receber 40% de aumento. Mostre o salário antigo, o novo salário e a diferença."
      ],
      "metadata": {
        "id": "G2Eb2Bpx-_JU"
      }
    },
    {
      "cell_type": "code",
      "source": [
        "salario = float(input('Qual o salário? '))\n",
        "cargo = input('Qual o cargo? ')\n",
        "\n",
        "if cargo == 101 or cargo == 'Gerente':\n",
        "  novo_salario = salario + (salario*0.1)\n",
        "  diferenca = novo_salario - salario\n",
        "  print(f'Você ganhou 10% de aumento. Seu salário era: R${salario}, seu novo salário é R${novo_salario} e a diferença é de R${diferenca}')\n",
        "\n",
        "elif cargo == 102 or cargo == 'Engenheiro':\n",
        "  novo_salario = salario + (salario*0.2)\n",
        "  diferenca = novo_salario - salario\n",
        "  print(f'Você ganhou 20% de aumento. Seu salário era: R${salario}, seu novo salário é R${novo_salario} e a diferença é de R${diferenca}')\n",
        "\n",
        "elif cargo == 103 or cargo == 'Técnico':\n",
        "  novo_salario = salario + (salario*0.3)\n",
        "  diferenca = novo_salario - salario\n",
        "  print(f'Você ganhou 30% de aumento. Seu salário era: R${salario}, seu novo salário é R${novo_salario} e a diferença é de R${diferenca}')\n",
        "\n",
        "else:\n",
        "  novo_salario = salario + (salario*0.4)\n",
        "  diferenca = novo_salario - salario\n",
        "  print(f'Você ganhou 40% de aumento. Seu salário era: R${salario}, seu novo salário é R${novo_salario} e a diferença é de R${diferenca}')\n"
      ],
      "metadata": {
        "colab": {
          "base_uri": "https://localhost:8080/"
        },
        "id": "TD3ZOrlF7hTT",
        "outputId": "24214ed2-3186-43e5-836f-d1221d9fcee0"
      },
      "execution_count": 116,
      "outputs": [
        {
          "output_type": "stream",
          "name": "stdout",
          "text": [
            "Qual o salário? 10000\n",
            "Qual o cargo? 103\n",
            "Você ganhou 40% de aumento. Seu salário era: R$10000.0, seu novo salário é R$14000.0 e a diferença é de R$4000.0\n"
          ]
        }
      ]
    }
  ],
  "metadata": {
    "colab": {
      "provenance": [],
      "authorship_tag": "ABX9TyMJ4Bpav9Co+glOjxBe2TGl",
      "include_colab_link": true
    },
    "kernelspec": {
      "display_name": "Python 3",
      "name": "python3"
    },
    "language_info": {
      "name": "python"
    }
  },
  "nbformat": 4,
  "nbformat_minor": 0
}